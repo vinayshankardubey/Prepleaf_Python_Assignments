{
 "cells": [
  {
   "cell_type": "markdown",
   "metadata": {
    "id": "sU6ae47jTjoW"
   },
   "source": [
    "**Type of Variables**<br>\n",
    "Print the type of i, j, k, s using print(type()) function"
   ]
  },
  {
   "cell_type": "code",
   "execution_count": 5,
   "metadata": {
    "id": "MGNs4BKoSOIi"
   },
   "outputs": [
    {
     "name": "stdout",
     "output_type": "stream",
     "text": [
      "<class 'int'>\n",
      "<class 'float'>\n",
      "<class 'list'>\n",
      "<class 'str'>\n"
     ]
    }
   ],
   "source": [
    "i = 10\n",
    "j = 12.3\n",
    "k = [1,2,\"hello\"]\n",
    "s = \"hello\"\n",
    "\n",
    "print(type(i))\n",
    "print(type(j))\n",
    "print(type(k))\n",
    "print(type(s))\n"
   ]
  },
  {
   "cell_type": "markdown",
   "metadata": {
    "id": "h9rGRe4dUp5X"
   },
   "source": [
    "**Basic Input & Output**"
   ]
  },
  {
   "cell_type": "markdown",
   "metadata": {
    "id": "uMsrbtXHVME3"
   },
   "source": [
    "Q1. write an input function to take name of the user. While taking input the scree should tell \"What is your good name\" and then print it saying \"Namaste {name}\"."
   ]
  },
  {
   "cell_type": "code",
   "execution_count": 5,
   "metadata": {
    "id": "oD6e39t0V368"
   },
   "outputs": [
    {
     "name": "stdout",
     "output_type": "stream",
     "text": [
      "What is your Good Name ?VInay\n",
      "Namaste VInay\n"
     ]
    }
   ],
   "source": [
    "name =input(\"What is your Good Name ?\")\n",
    "print(\"Namaste\" +' '+ name)"
   ]
  },
  {
   "cell_type": "markdown",
   "metadata": {
    "id": "cL_B-uAdV6Em"
   },
   "source": [
    "Q2. Take 2 input one as a favourite sport and other as favourite player<br>\n",
    "Now print out \"your like {sport} and {player}\" as a output using both .format() and f-string method"
   ]
  },
  {
   "cell_type": "code",
   "execution_count": 8,
   "metadata": {
    "id": "rdEBX5vDYQGi"
   },
   "outputs": [
    {
     "name": "stdout",
     "output_type": "stream",
     "text": [
      "What is your Favourite Sport ? :vinay\n",
      "Who is your Favourite Player ? :df\n",
      "your like vinay and df\n"
     ]
    }
   ],
   "source": [
    "fav_sport = input(\"What is your Favourite Sport ? :\")\n",
    "fav_player = input(\"Who is your Favourite Player ? :\")\n",
    "\n",
    "print(\"your like {} and {}\".format(fav_sport,fav_player))"
   ]
  },
  {
   "cell_type": "markdown",
   "metadata": {
    "id": "6x6_Eb5TYzC3"
   },
   "source": [
    "**Operators**"
   ]
  },
  {
   "cell_type": "markdown",
   "metadata": {
    "id": "VltAXW_xZi45"
   },
   "source": [
    "Q1. Take 2 interger as input and print sum, multiplication, difference, division, modulus, floor division of first input over second input in every new line."
   ]
  },
  {
   "cell_type": "code",
   "execution_count": 13,
   "metadata": {
    "id": "-pEBOk-GaZE5"
   },
   "outputs": [
    {
     "name": "stdout",
     "output_type": "stream",
     "text": [
      "Enter number a :10\n",
      "Enter number b :5\n",
      "15\n",
      "50\n",
      "5\n",
      "2.0\n",
      "0\n",
      "2\n"
     ]
    }
   ],
   "source": [
    "a = input(\"Enter number a :\")\n",
    "b = input(\"Enter number b :\")\n",
    "\n",
    "a = int(a)\n",
    "b = int(b)\n",
    "\n",
    "print(a+b)\n",
    "print(a*b)\n",
    "print(a-b)\n",
    "print(a/b)\n",
    "print(a%b)\n",
    "print(a//b)"
   ]
  },
  {
   "cell_type": "markdown",
   "metadata": {
    "id": "oar8z3Xsay6o"
   },
   "source": [
    "Q2. Again take 2 integer as input, print their squares and repeat Q1 for their squares"
   ]
  },
  {
   "cell_type": "code",
   "execution_count": 15,
   "metadata": {
    "id": "VcOc42BJbrGh"
   },
   "outputs": [
    {
     "name": "stdout",
     "output_type": "stream",
     "text": [
      "Enter number c :5\n",
      "Enter number d :10\n",
      "125\n",
      "2500\n",
      "-75\n",
      "0.25\n",
      "25\n",
      "0\n"
     ]
    }
   ],
   "source": [
    "c = input(\"Enter number c :\")\n",
    "d = input(\"Enter number d :\")\n",
    "\n",
    "c = int(c)\n",
    "d = int(d)\n",
    "\n",
    "c = c**2\n",
    "d = d**2\n",
    "\n",
    "print(c+d)\n",
    "print(c*d)\n",
    "print(c-d)\n",
    "print(c/d)\n",
    "print(c%d)\n",
    "print(c//d)\n"
   ]
  },
  {
   "cell_type": "markdown",
   "metadata": {
    "id": "6aXldHtdqVBn"
   },
   "source": [
    "**Some Useful Function**"
   ]
  },
  {
   "cell_type": "markdown",
   "metadata": {
    "id": "v-B6JnXD4sE0"
   },
   "source": [
    "Q1. Take 3 integer as input and print the minimum and maximum of these 3 inputs"
   ]
  },
  {
   "cell_type": "code",
   "execution_count": 16,
   "metadata": {
    "id": "j7ygLU_UqZjG"
   },
   "outputs": [
    {
     "name": "stdout",
     "output_type": "stream",
     "text": [
      "Enter number e :5\n",
      "Enter number f :6\n",
      "Enter number g :7\n",
      "5\n",
      "7\n"
     ]
    }
   ],
   "source": [
    "e = input(\"Enter number e :\")\n",
    "f = input(\"Enter number f :\")\n",
    "g = input(\"Enter number g :\")\n",
    "\n",
    "e = int(e)\n",
    "f = int(f)\n",
    "g = int(g)\n",
    "\n",
    "\n",
    "print(min(e,f,g))\n",
    "print(max(e,f,g))"
   ]
  },
  {
   "cell_type": "markdown",
   "metadata": {
    "id": "EaTO304f5XOf"
   },
   "source": [
    "Q2. Use sum() and print the sum of <br>\n",
    "a) All elements of list <br>\n",
    "b) Except 1st element of the list<br>\n",
    "c) All elements of the list and start with 2"
   ]
  },
  {
   "cell_type": "code",
   "execution_count": 18,
   "metadata": {
    "id": "jwPrgWBc5OTX"
   },
   "outputs": [
    {
     "name": "stdout",
     "output_type": "stream",
     "text": [
      "55\n"
     ]
    }
   ],
   "source": [
    "list1 = [2,1,4,3,8,5,6,7,10,9]\n",
    "\n",
    "print(sum(list1))"
   ]
  },
  {
   "cell_type": "markdown",
   "metadata": {
    "id": "mTnOhy5yceub"
   },
   "source": [
    "**Bonus Stuff**"
   ]
  },
  {
   "cell_type": "code",
   "execution_count": 19,
   "metadata": {
    "id": "vFI8-Xjob6Rc"
   },
   "outputs": [
    {
     "name": "stdout",
     "output_type": "stream",
     "text": [
      "True\n",
      "True\n"
     ]
    }
   ],
   "source": [
    "# Run this code (ctrl/cmd + Enter) and see the output\n",
    "i = 10\n",
    "j = 10\n",
    "print(i == j)\n",
    "print(i is j)"
   ]
  },
  {
   "cell_type": "code",
   "execution_count": 20,
   "metadata": {
    "id": "g4unJERvcCdg"
   },
   "outputs": [
    {
     "name": "stdout",
     "output_type": "stream",
     "text": [
      "False\n",
      "False\n"
     ]
    }
   ],
   "source": [
    "# Now run this code and compare it with previous output\n",
    "list1 = [1,2,3]\n",
    "list2 = [1,2,3]\n",
    "print(list1 == list)\n",
    "print(list1 is list2)"
   ]
  },
  {
   "cell_type": "markdown",
   "metadata": {
    "id": "vWWrzFZMeAaH"
   },
   "source": [
    "**Answers**"
   ]
  },
  {
   "cell_type": "code",
   "execution_count": null,
   "metadata": {
    "id": "OzkwbsnXeDp3"
   },
   "outputs": [],
   "source": [
    "#@title\n",
    "#Basic input & output\n",
    "#Q1\n",
    "name = input(\"What is your good name? \")\n",
    "print(\"Namaste\", name)\n",
    "\n",
    "#Q2\n",
    "sport = input(\"What is your favourite sport? \")\n",
    "player = input(\"Who is your favourite player? \")\n",
    "print(\"you like {} and {}\".format(sport,player))\n",
    "print(f\"you like {sport} and {player}\")\n",
    "\n",
    "\n",
    "# Operators\n",
    "#Q1\n",
    "num1 = int(input(\"enter first number \"))\n",
    "num2 = int(input(\"enter second number \"))\n",
    "print(\"sum is {} \\ndifference is {} \\nmultiplication is {} \\ndivision is {} \\nmodulus is {} \\nfloor division is {}\".format(num1+num2, num1-num2, num1*num2, num1/num2, num1%num2, num1//num2))\n",
    "\n",
    "#Q2\n",
    "num1 = int(input(\"enter first number \"))\n",
    "num2 = int(input(\"enter second number \"))\n",
    "sq_num1 = num1**2\n",
    "sq_num2 = num2**2\n",
    "print(\"sum is {} \\ndifference is {} \\nmultiplication is {} \\ndivision is {} \\nmodulus is {} \\nfloor division is {}\".format(sq_num1+sq_num2, sq_num1-sq_num2, sq_num1*sq_num2, sq_num1/sq_num2, sq_num1%sq_num2, sq_num1//sq_num2))\n",
    "\n",
    "\n",
    "# Some useful function\n",
    "#Q1\n",
    "a, b, c = int(input()), int(input()), int(input())\n",
    "print(max(a,b,c), \"\\n\", min(a,b,c))\n",
    "\n",
    "#Q2\n",
    "print(sum(list1))\n",
    "print(sum(list1[1:]))\n",
    "print(sum(list1, 2))"
   ]
  }
 ],
 "metadata": {
  "colab": {
   "name": "Assignment1.ipynb",
   "provenance": []
  },
  "kernelspec": {
   "display_name": "Python 3 (ipykernel)",
   "language": "python",
   "name": "python3"
  },
  "language_info": {
   "codemirror_mode": {
    "name": "ipython",
    "version": 3
   },
   "file_extension": ".py",
   "mimetype": "text/x-python",
   "name": "python",
   "nbconvert_exporter": "python",
   "pygments_lexer": "ipython3",
   "version": "3.9.7"
  }
 },
 "nbformat": 4,
 "nbformat_minor": 1
}

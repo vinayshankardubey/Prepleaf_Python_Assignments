{
 "cells": [
  {
   "cell_type": "markdown",
   "metadata": {
    "id": "bE9fdjmW4tX4"
   },
   "source": [
    "# Object Oriented Programming\n",
    "## Homework Assignment\n",
    "\n",
    "#### Problem 1\n",
    "Fill in the Line class methods to accept coordinates as a pair of tuples and return the slope and distance of the line."
   ]
  },
  {
   "cell_type": "code",
   "execution_count": 40,
   "metadata": {
    "id": "bXw_BccL4tX8"
   },
   "outputs": [],
   "source": [
    "import math\n",
    "\n",
    "\n",
    "class Line:\n",
    "    \n",
    "    def __init__(self,coor1,coor2):\n",
    "        self.coor_1 = coor1\n",
    "        self.coor_2 = coor2\n",
    "        print(self.coor_1)\n",
    "    \n",
    "    def distance(self):\n",
    "        dist = math.sqrt((self.coor_1[1] - self.coor_1[0])**2 + (self.coor_2[1] - self.coor_2[0])**2)\n",
    "        return dist\n",
    "    \n",
    "    def slope(self):\n",
    "        slp =(self.coor_2[1]-self.coor_2[0])/(self.coor_1[1]-self.coor_1[0])\n",
    "        return slp"
   ]
  },
  {
   "cell_type": "code",
   "execution_count": 41,
   "metadata": {
    "id": "ueFXJf0d4tX_"
   },
   "outputs": [
    {
     "name": "stdout",
     "output_type": "stream",
     "text": [
      "(3, 2)\n"
     ]
    }
   ],
   "source": [
    "# EXAMPLE OUTPUT\n",
    "\n",
    "coordinate1 = (3,2)\n",
    "coordinate2 = (8,10)\n",
    "\n",
    "li = Line(coordinate1,coordinate2)\n",
    "\n"
   ]
  },
  {
   "cell_type": "code",
   "execution_count": 42,
   "metadata": {
    "id": "_J2px24o4tYB",
    "outputId": "9b3338c9-b8f3-4b98-e768-9551d4bc5aa7"
   },
   "outputs": [
    {
     "data": {
      "text/plain": [
       "2.23606797749979"
      ]
     },
     "execution_count": 42,
     "metadata": {},
     "output_type": "execute_result"
    }
   ],
   "source": [
    "li.distance()"
   ]
  },
  {
   "cell_type": "code",
   "execution_count": 43,
   "metadata": {
    "id": "J3fdIuC-4tYF",
    "outputId": "ee849486-0bd4-404e-bbc9-2020e08bed2b"
   },
   "outputs": [
    {
     "data": {
      "text/plain": [
       "-2.0"
      ]
     },
     "execution_count": 43,
     "metadata": {},
     "output_type": "execute_result"
    }
   ],
   "source": [
    "li.slope()"
   ]
  },
  {
   "cell_type": "markdown",
   "metadata": {
    "id": "-iOiZy0I4tYH"
   },
   "source": [
    "________\n",
    "#### Problem 2"
   ]
  },
  {
   "cell_type": "markdown",
   "metadata": {
    "id": "hKXpdYPh4tYI"
   },
   "source": [
    "Fill in the class "
   ]
  },
  {
   "cell_type": "code",
   "execution_count": 53,
   "metadata": {
    "id": "6aMLrnDn4tYM"
   },
   "outputs": [],
   "source": [
    "class Cylinder:\n",
    "    \n",
    "    def __init__(self,height=1,radius=1):\n",
    "        self.height = height\n",
    "        self.radius = radius\n",
    "        \n",
    "    def volume(self):\n",
    "        #pir2h\n",
    "        vol = math.pi * self.radius**2 * self.height\n",
    "        return vol\n",
    "    #2πr² + 2πrh\n",
    "    def surface_area(self):\n",
    "        sur_ar = 2 * math.pi * self.radius**2 + 2 * math.pi * self.radius * self.height\n",
    "        return sur_ar"
   ]
  },
  {
   "cell_type": "code",
   "execution_count": 54,
   "metadata": {
    "id": "RpkDvRCT4tYO"
   },
   "outputs": [],
   "source": [
    "# EXAMPLE OUTPUT\n",
    "c = Cylinder(2,3)"
   ]
  },
  {
   "cell_type": "code",
   "execution_count": 55,
   "metadata": {
    "id": "zCBMG24_4tYQ",
    "outputId": "addc66b2-fdaf-4cc0-dcbd-d46e26b24b12"
   },
   "outputs": [
    {
     "data": {
      "text/plain": [
       "56.548667764616276"
      ]
     },
     "execution_count": 55,
     "metadata": {},
     "output_type": "execute_result"
    }
   ],
   "source": [
    "c.volume()"
   ]
  },
  {
   "cell_type": "code",
   "execution_count": 56,
   "metadata": {
    "id": "s9CZgiOg4tYT",
    "outputId": "c55cddc4-d86c-41bd-c85b-0e470e57e3b8"
   },
   "outputs": [
    {
     "data": {
      "text/plain": [
       "94.24777960769379"
      ]
     },
     "execution_count": 56,
     "metadata": {},
     "output_type": "execute_result"
    }
   ],
   "source": [
    "c.surface_area()"
   ]
  }
 ],
 "metadata": {
  "colab": {
   "name": "Assignment4.ipynb",
   "provenance": []
  },
  "kernelspec": {
   "display_name": "Python 3 (ipykernel)",
   "language": "python",
   "name": "python3"
  },
  "language_info": {
   "codemirror_mode": {
    "name": "ipython",
    "version": 3
   },
   "file_extension": ".py",
   "mimetype": "text/x-python",
   "name": "python",
   "nbconvert_exporter": "python",
   "pygments_lexer": "ipython3",
   "version": "3.9.7"
  }
 },
 "nbformat": 4,
 "nbformat_minor": 1
}

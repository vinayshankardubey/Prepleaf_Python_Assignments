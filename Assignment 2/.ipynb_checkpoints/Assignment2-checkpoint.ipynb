{
 "cells": [
  {
   "cell_type": "markdown",
   "metadata": {
    "id": "0_YhujSdZl4S"
   },
   "source": [
    "# List"
   ]
  },
  {
   "cell_type": "markdown",
   "metadata": {
    "id": "ACXJkl4TZs4k"
   },
   "source": [
    "**Functions and Methods**"
   ]
  },
  {
   "cell_type": "markdown",
   "metadata": {
    "id": "wsFf1wnca3Jw"
   },
   "source": [
    "Q1. use sort() function to sort [34,1,2,6,3,7], [[1,3], [3,2], [1,2], [3,1]] and ['a', 'x', 'e', 'A', 'X', 'E'] and tell us what you observe in 2nd, 3rd list"
   ]
  },
  {
   "cell_type": "code",
   "execution_count": 12,
   "metadata": {
    "id": "TW42GJCebqgN"
   },
   "outputs": [
    {
     "name": "stdout",
     "output_type": "stream",
     "text": [
      "[1, 2, 3, 6, 7, 34]\n"
     ]
    }
   ],
   "source": [
    "list = [34,1,2,6,3,7]\n",
    "list.sort()\n",
    "print(list)"
   ]
  },
  {
   "cell_type": "code",
   "execution_count": 13,
   "metadata": {
    "id": "bwOuPkT9cCcm"
   },
   "outputs": [
    {
     "name": "stdout",
     "output_type": "stream",
     "text": [
      "[[1, 2], [1, 3], [3, 1], [3, 2]]\n"
     ]
    }
   ],
   "source": [
    "list2 = [[1,3], [3,2], [1,2], [3,1]]\n",
    "list2.sort()\n",
    "print(list2)"
   ]
  },
  {
   "cell_type": "code",
   "execution_count": 14,
   "metadata": {
    "id": "HvYQe7TejVFT"
   },
   "outputs": [
    {
     "name": "stdout",
     "output_type": "stream",
     "text": [
      "['A', 'E', 'X', 'a', 'e', 'x']\n"
     ]
    }
   ],
   "source": [
    "list3 =  ['a', 'x', 'e', 'A', 'X', 'E'] \n",
    "list3.sort()\n",
    "print(list3)"
   ]
  },
  {
   "cell_type": "markdown",
   "metadata": {
    "id": "RAgCO40Nb3As"
   },
   "source": [
    "Q2. using count() function print the count of 2 and 3 and then using pop() and remove() function to get all a list of unique numbers for [1,2,2,3,3,3]"
   ]
  },
  {
   "cell_type": "code",
   "execution_count": 15,
   "metadata": {
    "id": "xGHObY5JmHv_"
   },
   "outputs": [
    {
     "name": "stdout",
     "output_type": "stream",
     "text": [
      "2\n"
     ]
    }
   ],
   "source": [
    "list_f_count = [1,2,2,3,3,3]\n",
    "c_ount_2 = list_f_count.count(2)\n",
    "\n",
    "print(c_ount_2)\n"
   ]
  },
  {
   "cell_type": "code",
   "execution_count": 16,
   "metadata": {
    "id": "jDNdnYP0cOks"
   },
   "outputs": [
    {
     "name": "stdout",
     "output_type": "stream",
     "text": [
      "3\n"
     ]
    }
   ],
   "source": [
    "c_ount_3 = list_f_count.count(3)\n",
    "\n",
    "print(c_ount_3)"
   ]
  },
  {
   "cell_type": "code",
   "execution_count": 17,
   "metadata": {
    "id": "ufJM-Ei8cPHH"
   },
   "outputs": [
    {
     "name": "stdout",
     "output_type": "stream",
     "text": [
      "[1, 2, 3]\n"
     ]
    }
   ],
   "source": [
    "for i in list_f_count:\n",
    "    if list_f_count.count(i)>1:\n",
    "        list_f_count.remove(i)\n",
    "        \n",
    "print(list_f_count)"
   ]
  },
  {
   "cell_type": "markdown",
   "metadata": {
    "id": "wYS-rtvmcQUU"
   },
   "source": [
    "Q3. using index() find the index of min and max value in the list [3,6,2,1,7,2,9] and swap them "
   ]
  },
  {
   "cell_type": "code",
   "execution_count": 27,
   "metadata": {
    "id": "2YGA7rDbc3HD"
   },
   "outputs": [
    {
     "name": "stdout",
     "output_type": "stream",
     "text": [
      "3\n",
      "6\n"
     ]
    }
   ],
   "source": [
    "for_swap_minmax = [3,6,2,1,7,2,9] \n",
    "\n",
    "#for_min\n",
    "index_of_min = for_swap_minmax.index(min(for_swap_minmax))\n",
    "print(index_of_min)\n",
    "\n",
    "#for_max\n",
    "index_of_max = for_swap_minmax.index(max(for_swap_minmax))\n",
    "print(index_of_max)\n",
    "\n"
   ]
  },
  {
   "cell_type": "code",
   "execution_count": 28,
   "metadata": {},
   "outputs": [
    {
     "name": "stdout",
     "output_type": "stream",
     "text": [
      "6\n",
      "3\n"
     ]
    }
   ],
   "source": [
    "#swap\n",
    "x_swap,y_swap = index_of_max,index_of_min\n",
    "\n",
    "print(x_swap)\n",
    "print(y_swap)"
   ]
  },
  {
   "cell_type": "markdown",
   "metadata": {
    "id": "FzBKzAuUfW7R"
   },
   "source": [
    "**Slicing**"
   ]
  },
  {
   "cell_type": "markdown",
   "metadata": {
    "id": "rAddE2xZfn6D"
   },
   "source": [
    "Q4. Using slicing method slice [1,2,3,4,5,6,7,8,9,10] in the following ways<br>\n",
    "    a) elements <4 and elements>6 <br>\n",
    "    b) elements <=5 and element >5 but in reverse order<br>\n",
    "    c) odd numbers and even numbers"
   ]
  },
  {
   "cell_type": "code",
   "execution_count": 34,
   "metadata": {
    "id": "z0VsBaJJfxGW"
   },
   "outputs": [
    {
     "name": "stdout",
     "output_type": "stream",
     "text": [
      "[1, 2, 3, 7, 8, 9, 10]\n"
     ]
    }
   ],
   "source": [
    "for_slicing = [1,2,3,4,5,6,7,8,9,10]\n",
    "for_slicing_new = []\n",
    "\n",
    "#a if 4 and 6 is number\n",
    "for i in for_slicing:\n",
    "    if i < 4 or i > 6:\n",
    "        for_slicing_new.append(i)\n",
    "        \n",
    "print(for_slicing_new)\n"
   ]
  },
  {
   "cell_type": "code",
   "execution_count": 36,
   "metadata": {
    "id": "7JTcQuDIgwp6"
   },
   "outputs": [
    {
     "name": "stdout",
     "output_type": "stream",
     "text": [
      "[10, 9, 8, 7, 6, 5, 4, 3, 2, 1]\n"
     ]
    }
   ],
   "source": [
    "for_slicing_2 = [1,2,3,4,5,6,7,8,9,10]\n",
    "for_slicing_new_2 = []\n",
    "\n",
    "#a\n",
    "for i in for_slicing:\n",
    "    if i <= 5 or i > 5:\n",
    "        for_slicing_new_2.append(i)\n",
    "        \n",
    "print(for_slicing_new_2[::-1])"
   ]
  },
  {
   "cell_type": "code",
   "execution_count": 44,
   "metadata": {
    "id": "zUUY9xPHgw_t"
   },
   "outputs": [
    {
     "name": "stdout",
     "output_type": "stream",
     "text": [
      "[2, 4, 6, 8, 10]\n",
      "[1, 3, 5, 7, 9]\n"
     ]
    }
   ],
   "source": [
    "for_slicing_3 = [1,2,3,4,5,6,7,8,9,10]\n",
    "for_slicing_new_even = []\n",
    "for_slicing_new_odd = []\n",
    "\n",
    "#a\n",
    "for i in for_slicing:\n",
    "    if i%2 == 0:\n",
    "        for_slicing_new_even.append(i)\n",
    "        \n",
    "    if i%2 != 0:\n",
    "        for_slicing_new_odd.append(i)\n",
    "        \n",
    "print(for_slicing_new_even)\n",
    "print(for_slicing_new_odd)"
   ]
  },
  {
   "cell_type": "markdown",
   "metadata": {
    "id": "tpbLObMQgynv"
   },
   "source": [
    "Q5. Use extend() and list concatenation function on the 2 list obtained from Q4.c"
   ]
  },
  {
   "cell_type": "code",
   "execution_count": 46,
   "metadata": {
    "id": "k4-TRcsRg-qV"
   },
   "outputs": [
    {
     "data": {
      "text/plain": [
       "[1, 3, 5, 7, 9]"
      ]
     },
     "execution_count": 46,
     "metadata": {},
     "output_type": "execute_result"
    }
   ],
   "source": [
    "#var 1 from q4.c\n",
    "for_slicing_new_even\n",
    "\n",
    "#var 2 from q4.c\n",
    "for_slicing_new_odd\n",
    "\n"
   ]
  },
  {
   "cell_type": "code",
   "execution_count": 47,
   "metadata": {
    "id": "9Usesd2uhLcK"
   },
   "outputs": [
    {
     "name": "stdout",
     "output_type": "stream",
     "text": [
      "[2, 4, 6, 8, 10, 1, 3, 5, 7, 9, 1, 3, 5, 7, 9]\n"
     ]
    }
   ],
   "source": [
    "#extending for_slicing_new_even in for_slicing_new_odd\n",
    "for_slicing_new_even.extend(for_slicing_new_odd)\n",
    "\n",
    "print(for_slicing_new_even)"
   ]
  },
  {
   "cell_type": "markdown",
   "metadata": {
    "id": "CJCeEmFCi3dJ"
   },
   "source": [
    "**Unpacking List**"
   ]
  },
  {
   "cell_type": "markdown",
   "metadata": {
    "id": "biNelgs_i7ZI"
   },
   "source": [
    "Q6. using unpacking method unpack the following lists in different data types<br>\n",
    "a) [1,2.1,\"hello\"]<br>\n",
    "b) [\"hi\", 1.1, 2.3, [1,2]]<br>\n",
    "c) [\"h1\", [1,3], 1,2]"
   ]
  },
  {
   "cell_type": "code",
   "execution_count": 48,
   "metadata": {
    "id": "aHwJfIx-lx6i"
   },
   "outputs": [
    {
     "name": "stdout",
     "output_type": "stream",
     "text": [
      "1\n",
      "2.1\n",
      "hello\n"
     ]
    }
   ],
   "source": [
    "x = [1,2.1,\"hello\"]\n",
    "\n",
    "(a, b, c) = x\n",
    "\n",
    "print(a)\n",
    "print(b)\n",
    "print(c)"
   ]
  },
  {
   "cell_type": "code",
   "execution_count": 49,
   "metadata": {
    "id": "-uole7rPlyPU"
   },
   "outputs": [
    {
     "name": "stdout",
     "output_type": "stream",
     "text": [
      "hi\n",
      "[1.1, 2.3]\n",
      "[1, 2]\n"
     ]
    }
   ],
   "source": [
    "y = [\"hi\", 1.1, 2.3, [1,2]]\n",
    "\n",
    "(a, *b,c) = y\n",
    "\n",
    "print(a)\n",
    "print(b)\n",
    "print(c)"
   ]
  },
  {
   "cell_type": "code",
   "execution_count": 50,
   "metadata": {
    "id": "pdgoeojdlyuZ"
   },
   "outputs": [
    {
     "name": "stdout",
     "output_type": "stream",
     "text": [
      "h1\n",
      "[1, 3]\n",
      "[1, 2]\n"
     ]
    }
   ],
   "source": [
    "z = [\"h1\", [1,3], 1,2]\n",
    "\n",
    "(a, b, *c) = z\n",
    "\n",
    "print(a)\n",
    "print(b)\n",
    "print(c)"
   ]
  },
  {
   "cell_type": "markdown",
   "metadata": {
    "id": "zDeltUd2hRZo"
   },
   "source": [
    "# String"
   ]
  },
  {
   "cell_type": "markdown",
   "metadata": {
    "id": "z_x3P_EfhVO2"
   },
   "source": [
    "**Functions and Methods**"
   ]
  },
  {
   "cell_type": "markdown",
   "metadata": {
    "id": "Kc64jflrmb_I"
   },
   "source": [
    "Q1. Using split() function split the following strings on the given character<br>\n",
    "a) \"Hello I am Google Colab\", \" \" (normal split)<br>\n",
    "b) \"user@example.com\", \"@\" <br>\n",
    "c) \"Amanda is a woman\", \"a\" "
   ]
  },
  {
   "cell_type": "code",
   "execution_count": 60,
   "metadata": {
    "id": "TAUZgcwtvc6n"
   },
   "outputs": [
    {
     "name": "stdout",
     "output_type": "stream",
     "text": [
      "['Hello', 'I', 'am', 'Google', 'Colab']\n"
     ]
    }
   ],
   "source": [
    "a = \"Hello I am Google Colab\"\n",
    "\n",
    "b = a.split(' ')\n",
    "\n",
    "print(b)"
   ]
  },
  {
   "cell_type": "code",
   "execution_count": 58,
   "metadata": {
    "id": "1BexlL9_ve19"
   },
   "outputs": [
    {
     "name": "stdout",
     "output_type": "stream",
     "text": [
      "['user', 'example.com']\n"
     ]
    }
   ],
   "source": [
    "b = \"user@example.com\"\n",
    "\n",
    "c = b.split('@')\n",
    "print(c)"
   ]
  },
  {
   "cell_type": "code",
   "execution_count": 63,
   "metadata": {
    "id": "RwMXvE0Wvej1"
   },
   "outputs": [
    {
     "name": "stdout",
     "output_type": "stream",
     "text": [
      "['Am', 'nd', ' is ', ' wom', 'n']\n"
     ]
    }
   ],
   "source": [
    "c = \"Amanda is a woman\"\n",
    "\n",
    "d = c.split('a')\n",
    "            \n",
    "print(d)"
   ]
  },
  {
   "cell_type": "markdown",
   "metadata": {
    "id": "BiADO5h_wyJH"
   },
   "source": [
    "Q2. Join the list [\"Hello\", \"World\", \"Nice\", \"to\", \"meet\", \"you\"] with the following way<br>\n",
    "a) normal<br>\n",
    "b) \"@\""
   ]
  },
  {
   "cell_type": "code",
   "execution_count": 65,
   "metadata": {
    "id": "msXoMLpyxLSn"
   },
   "outputs": [
    {
     "name": "stdout",
     "output_type": "stream",
     "text": [
      "Hello World Nice to meet you\n"
     ]
    }
   ],
   "source": [
    "a_l = [\"Hello\", \"World\", \"Nice\", \"to\", \"meet\", \"you\"]\n",
    "new_al = ' '.join(a_l)\n",
    "\n",
    "print(new_al)"
   ]
  },
  {
   "cell_type": "code",
   "execution_count": 66,
   "metadata": {
    "id": "vFC0OAFUxKz9"
   },
   "outputs": [
    {
     "name": "stdout",
     "output_type": "stream",
     "text": [
      "Hello@World@Nice@to@meet@you\n"
     ]
    }
   ],
   "source": [
    "new_atl = '@'.join(a_l)\n",
    "\n",
    "print(new_atl)"
   ]
  },
  {
   "cell_type": "markdown",
   "metadata": {
    "id": "NvYLLIP5xSnm"
   },
   "source": [
    "Q3. Replace \"?\" in the string with the right word to make a logically correct sentence<br>\n",
    "a) \"one plus one is ?\" <br>\n",
    "b) \"it's ? in the clock\" (mention the time in the clock when you are atempting this question) <br>"
   ]
  },
  {
   "cell_type": "code",
   "execution_count": 68,
   "metadata": {
    "id": "x5yJb3c3yKUD"
   },
   "outputs": [
    {
     "name": "stdout",
     "output_type": "stream",
     "text": [
      "one plus one is two\n"
     ]
    }
   ],
   "source": [
    "a = \"one plus one is ?\"\n",
    "\n",
    "b = a.replace('?', 'two')\n",
    "print(b)"
   ]
  },
  {
   "cell_type": "code",
   "execution_count": 2,
   "metadata": {
    "id": "6RYDvBJ1yKs-"
   },
   "outputs": [
    {
     "name": "stdout",
     "output_type": "stream",
     "text": [
      "it's 1641722314.0783072 in the clock\n"
     ]
    }
   ],
   "source": [
    "import time\n",
    "\n",
    "a = \"it's ? in the clock\"\n",
    "\n",
    "\n",
    "time_t = time.time()\n",
    "\n",
    "b = a.replace('?',str(time_t))\n",
    "\n",
    "print(b)"
   ]
  },
  {
   "cell_type": "markdown",
   "metadata": {
    "id": "1U6h2sEQy16G"
   },
   "source": [
    "# Dictionaries"
   ]
  },
  {
   "cell_type": "markdown",
   "metadata": {
    "id": "37oOlcWPy5WF"
   },
   "source": [
    "Q1. Construct a Dictionary with keys ===> \"name\", \"age\", \"color\", \"place\" and repective values ===> your name, your age, your fav color, place where you live.<br>\n",
    "\n",
    "After constructing the dictionary, print the list of keys, values and items of the dictionary"
   ]
  },
  {
   "cell_type": "code",
   "execution_count": 12,
   "metadata": {
    "id": "3crjrol40B0C"
   },
   "outputs": [
    {
     "name": "stdout",
     "output_type": "stream",
     "text": [
      "dict_keys(['name', 'age', 'color', 'place'])\n",
      "dict_values(['Vinay', '21', 'grey', 'lucknow'])\n",
      "dict_items([('name', 'Vinay'), ('age', '21'), ('color', 'grey'), ('place', 'lucknow')])\n"
     ]
    }
   ],
   "source": [
    "my_dict = {'name' : 'Vinay', 'age' : '21', 'color':'grey', 'place' : 'lucknow'}\n",
    "\n",
    "#print keys\n",
    "print(my_dict.keys())\n",
    "\n",
    "#print balues\n",
    "print(my_dict.values())\n",
    "\n",
    "#print items\n",
    "print(my_dict.items())"
   ]
  },
  {
   "cell_type": "markdown",
   "metadata": {
    "id": "-2oCggYb0EdW"
   },
   "source": [
    "Q2. Construct a dictionary that contains 2 keys each as a name of your friend and value as a dictionary mentioned in Q1<br>\n",
    "\n",
    "eg:- {\"friend1\":{\"name\": \"Prashant\", \"age\": \"22\"....}, \"friend2\": {...}}\n",
    "\n",
    "print the list items of the main dictionary and also the sub-dictionaries present as value"
   ]
  },
  {
   "cell_type": "code",
   "execution_count": 18,
   "metadata": {
    "id": "WfjnJVxx1P8E"
   },
   "outputs": [
    {
     "name": "stdout",
     "output_type": "stream",
     "text": [
      "dict_items([('friend1', {'name': 'Vinay', 'age': '21', 'color': 'grey', 'place': 'lucknow'}), ('friend2', {'name': 'Ajay', 'age': '22', 'color': 'black', 'place': 'Mumbai'})])\n"
     ]
    }
   ],
   "source": [
    "friends_list = {'friend1' : {'name' : 'Vinay', 'age' : '21', 'color':'grey', 'place' : 'lucknow'},\n",
    "              'friend2'  : {'name' : 'Ajay', 'age' : '22', 'color':'black', 'place' : 'Mumbai'}\n",
    "               }\n",
    "\n",
    "#print list items\n",
    "print(friends_list.items())\n"
   ]
  },
  {
   "cell_type": "code",
   "execution_count": 16,
   "metadata": {},
   "outputs": [
    {
     "name": "stdout",
     "output_type": "stream",
     "text": [
      "dict_items([('name', 'Vinay'), ('age', '21'), ('color', 'grey'), ('place', 'lucknow')])\n"
     ]
    }
   ],
   "source": [
    "\n",
    "#print \n",
    "print(friends_list['friend1'].items())"
   ]
  },
  {
   "cell_type": "code",
   "execution_count": 19,
   "metadata": {},
   "outputs": [
    {
     "name": "stdout",
     "output_type": "stream",
     "text": [
      "dict_items([('name', 'Ajay'), ('age', '22'), ('color', 'black'), ('place', 'Mumbai')])\n"
     ]
    }
   ],
   "source": [
    "print(friends_list['friend2'].items())"
   ]
  },
  {
   "cell_type": "code",
   "execution_count": null,
   "metadata": {},
   "outputs": [],
   "source": []
  }
 ],
 "metadata": {
  "colab": {
   "name": "Assignment2.ipynb",
   "provenance": [],
   "toc_visible": true
  },
  "kernelspec": {
   "display_name": "Python 3 (ipykernel)",
   "language": "python",
   "name": "python3"
  },
  "language_info": {
   "codemirror_mode": {
    "name": "ipython",
    "version": 3
   },
   "file_extension": ".py",
   "mimetype": "text/x-python",
   "name": "python",
   "nbconvert_exporter": "python",
   "pygments_lexer": "ipython3",
   "version": "3.9.7"
  }
 },
 "nbformat": 4,
 "nbformat_minor": 1
}

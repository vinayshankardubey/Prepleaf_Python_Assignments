{
 "cells": [
  {
   "cell_type": "markdown",
   "metadata": {
    "id": "RntJ6pkM7-Sn"
   },
   "source": [
    "Q. A school has following rules for grading system:\n",
    "\n",
    "a. Below 25 - F\n",
    "\n",
    "b. 25 to 45 - E\n",
    "\n",
    "c. 45 to 50 - D\n",
    "\n",
    "d. 50 to 60 - C\n",
    "\n",
    "e. 60 to 80 - B\n",
    "\n",
    "f. Above 80 - A\n",
    "\n",
    "**write a function that takes the marks as input and prints the grades**"
   ]
  },
  {
   "cell_type": "code",
   "execution_count": 12,
   "metadata": {
    "id": "1rVT8azo7tZh"
   },
   "outputs": [
    {
     "name": "stdout",
     "output_type": "stream",
     "text": [
      "Enter Your Marks :80\n",
      "A\n"
     ]
    }
   ],
   "source": [
    "marks = input(\"Enter Your Marks :\")\n",
    "marks = int(marks)\n",
    "if marks < 25:\n",
    "    print('F')\n",
    "elif marks >= 25 and marks < 45:\n",
    "    print('E')\n",
    "elif marks >= 45 and marks < 50 :\n",
    "    print('D')\n",
    "elif marks >= 50 and marks < 60 :\n",
    "    print('C')\n",
    "elif marks >= 60 and marks < 80 :\n",
    "    print('B')\n",
    "elif marks >= 80:\n",
    "    print('A')\n",
    "                    \n",
    "        "
   ]
  },
  {
   "cell_type": "markdown",
   "metadata": {
    "id": "7sx4LhEB8XMc"
   },
   "source": [
    "**Q. Take input of age of 3 people by user and determine oldest and youngest** **among them, using if-else statement**\n"
   ]
  },
  {
   "cell_type": "code",
   "execution_count": 31,
   "metadata": {
    "id": "_Vt2pRkZeCCU"
   },
   "outputs": [
    {
     "name": "stdout",
     "output_type": "stream",
     "text": [
      "Enter First Person Age :65\n",
      "Enter Second Person Age :145\n",
      "Enter Third Person Age :1\n",
      "Youngest Person is : old_2\n",
      "Oldest Person is : old_3\n"
     ]
    }
   ],
   "source": [
    "old_1 = input(\"Enter First Person Age :\")\n",
    "old_2 = input(\"Enter Second Person Age :\")\n",
    "old_3 = input(\"Enter Third Person Age :\")\n",
    "\n",
    "old_1 = int(old_1)\n",
    "old_2 = int(old_2)\n",
    "old_3 = int(old_3)\n",
    "\n",
    "if old_1 > old_2 and old_1 > old_3:\n",
    "    print('Youngest Person is : old_1')\n",
    "elif old_2 > old_1 and old_2 > old_3:\n",
    "    print('Youngest Person is : old_2')\n",
    "elif old_3 > old_1 and old_3 > old_2:\n",
    "    print('Youngest Person is : old_3')\n",
    "    \n",
    "if old_1 < old_2 and old_1 < old_3:\n",
    "    print('Oldest Person is : old_1')\n",
    "elif old_2 < old_1 and old_2 < old_3:\n",
    "    print('Oldest Person is : old_2')\n",
    "elif old_3 < old_1 and old_3 < old_2:\n",
    "    print('Oldest Person is : old_3')"
   ]
  },
  {
   "cell_type": "markdown",
   "metadata": {
    "id": "tWsZQaByd6Oy"
   },
   "source": [
    "**Print the following pattern**\n",
    "\n",
    "1 \n",
    "\n",
    "1 2 \n",
    "\n",
    "1 2 3 \n",
    "\n",
    "1 2 3 4 \n",
    "\n",
    "1 2 3 4 5"
   ]
  },
  {
   "cell_type": "code",
   "execution_count": 43,
   "metadata": {
    "id": "vv4I0gqi7LRD"
   },
   "outputs": [
    {
     "name": "stdout",
     "output_type": "stream",
     "text": [
      "1 \r\n",
      "1 2 \r\n",
      "1 2 3 \r\n",
      "1 2 3 4 \r\n",
      "1 2 3 4 5 \r\n"
     ]
    }
   ],
   "source": [
    "\n",
    "for i in range(1,6):\n",
    "    for k in range(i):\n",
    "        print(k+1,end=\" \")\n",
    "    print('\\r')"
   ]
  },
  {
   "cell_type": "markdown",
   "metadata": {
    "id": "hobobMVh7b-u"
   },
   "source": [
    "**Write a Python function to find the Max of three numbers.**"
   ]
  },
  {
   "cell_type": "code",
   "execution_count": 65,
   "metadata": {
    "id": "pgt7q3ue6-NZ"
   },
   "outputs": [
    {
     "name": "stdout",
     "output_type": "stream",
     "text": [
      "Enter Number One For Findeind Max :52\n",
      "Enter Number Two For Findeind Max :31\n",
      "maximum Number is 52\n"
     ]
    }
   ],
   "source": [
    "a = input(\"Enter Number One For Findeind Max :\")\n",
    "b = input(\"Enter Number Two For Findeind Max :\")\n",
    "\n",
    "a = int(a)\n",
    "b = int(b)\n",
    "\n",
    "print(f'maximum Number is {find_max(a,b)}')\n",
    "\n",
    "def find_max(a,b):\n",
    "    if a > b:\n",
    "        return a\n",
    "    else:\n",
    "        return b\n",
    "        \n"
   ]
  },
  {
   "cell_type": "markdown",
   "metadata": {
    "id": "Ib2Uifcj89H1"
   },
   "source": [
    "**Write a function that takes 2 numbers as an input and returns XOR of 1's compliment of both numbers**"
   ]
  },
  {
   "cell_type": "code",
   "execution_count": null,
   "metadata": {
    "id": "U5Fxm_0s7gBg"
   },
   "outputs": [],
   "source": []
  },
  {
   "cell_type": "markdown",
   "metadata": {
    "id": "RzvgxvHq9SOm"
   },
   "source": [
    "**Write a function calculation() such that it can accept two variables and calculate the addition and subtraction of them. And also it must return both addition and subtraction in a single return call**"
   ]
  },
  {
   "cell_type": "code",
   "execution_count": null,
   "metadata": {
    "id": "jALDqzdH9b2W"
   },
   "outputs": [],
   "source": []
  },
  {
   "cell_type": "markdown",
   "metadata": {
    "id": "l-98gIOq9cuV"
   },
   "source": [
    "Create an inner function to calculate the addition in the following way<br>\n",
    "Create an outer function that will accept two parameters, a and b<br>\n",
    "Create an inner function inside an outer function that will calculate the addition of a and b<br>\n",
    "At last, an outer function will add 5 into addition and return it"
   ]
  },
  {
   "cell_type": "code",
   "execution_count": null,
   "metadata": {
    "id": "4Eig0Hzd-Cbd"
   },
   "outputs": [],
   "source": []
  },
  {
   "cell_type": "markdown",
   "metadata": {
    "id": "k2t7vQzyAHKW"
   },
   "source": [
    "**Run the below fuction in the cell given below and see what is the output**\n",
    "\n",
    "```\n",
    "# This is formatted as code\n",
    "def outerFun(a, b):\n",
    "    def innerFun(c, d):\n",
    "        return c + d\n",
    "    return innerFun(a, b)\n",
    "    return a\n",
    "\n",
    "result = outerFun(5, 10)\n",
    "print(result)\n",
    "```\n",
    "\n",
    "\n"
   ]
  },
  {
   "cell_type": "code",
   "execution_count": null,
   "metadata": {
    "id": "osz7-N9_BBOP"
   },
   "outputs": [],
   "source": []
  },
  {
   "cell_type": "markdown",
   "metadata": {
    "id": "8lu2BtScBkbG"
   },
   "source": [
    "**Run the code below and look at the output**\n",
    "```\n",
    "# This is formatted as code\n",
    "def display(**kwargs):\n",
    "    for i in kwargs:\n",
    "        print(i)\n",
    "display(emp=\"Kelly\", salary=9000)\n",
    "```\n",
    "if the function outputs both key and value then do nothing or else do the sufficient changes in the code to return the key, value tuple as the output.<br>\n",
    "correct output:- <br>(’emp’, ‘Kelly’)<br>(‘salary’, 9000)"
   ]
  },
  {
   "cell_type": "code",
   "execution_count": null,
   "metadata": {
    "id": "22TbXuiNCcNU"
   },
   "outputs": [],
   "source": []
  },
  {
   "cell_type": "markdown",
   "metadata": {
    "id": "Td783_fV-Lgq"
   },
   "source": [
    "**Bonus**<br>\n",
    "Make 4 different function add, sub, mul, div that takes 2 integer as input and returns sum, difference, product, division respectively of 1st number over 2nd number.<br>\n",
    "After that make a function clculator that takes 3 input (2 integers and a string) the string should be either (\"add\", \"diff\", \"mul\", \"div\") of this 4 and then return the corresponding value.\n",
    "\n",
    "for example: if the user gives input as 12, 4 and \"div\" then return the division of 12 over 4, which is equal to 3"
   ]
  },
  {
   "cell_type": "code",
   "execution_count": null,
   "metadata": {
    "id": "7FveeoVR-K-b"
   },
   "outputs": [],
   "source": []
  }
 ],
 "metadata": {
  "colab": {
   "name": "Assignment3.ipynb",
   "provenance": []
  },
  "kernelspec": {
   "display_name": "Python 3 (ipykernel)",
   "language": "python",
   "name": "python3"
  },
  "language_info": {
   "codemirror_mode": {
    "name": "ipython",
    "version": 3
   },
   "file_extension": ".py",
   "mimetype": "text/x-python",
   "name": "python",
   "nbconvert_exporter": "python",
   "pygments_lexer": "ipython3",
   "version": "3.9.7"
  }
 },
 "nbformat": 4,
 "nbformat_minor": 1
}

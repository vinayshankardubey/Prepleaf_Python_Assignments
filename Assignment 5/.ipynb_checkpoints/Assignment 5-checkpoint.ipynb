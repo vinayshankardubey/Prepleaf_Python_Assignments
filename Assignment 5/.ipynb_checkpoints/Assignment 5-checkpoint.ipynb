{
 "cells": [
  {
   "cell_type": "markdown",
   "metadata": {
    "id": "kkb8ko8fAO4z"
   },
   "source": [
    "#Python Assessment Test"
   ]
  },
  {
   "cell_type": "markdown",
   "metadata": {
    "id": "d4iQYYo7AtJ9"
   },
   "source": [
    "**Question 1. For the full answers, review the notebook introductions of each topic!. Describe the following object type data                stuctures\n",
    "1. Numbers\n",
    "2. Strings\n",
    "3. List\n",
    "4. Tuples\n",
    "5. Dictionaries\n",
    "\n",
    "Use text cells to write your answers."
   ]
  },
  {
   "cell_type": "markdown",
   "metadata": {
    "id": "Bjf-K3lSuynI"
   },
   "source": [
    "1. Numbers : Number data types store numeric values.\n",
    "            They are immutable data types, \n",
    "            means that changing the value of a number data type results in a newly\n",
    "            allocated object.\n",
    "            \n",
    "            Python supports four different numeris data types:\n",
    "                1. int\n",
    "                2. long\n",
    "                3. flot\n",
    "                4. comlpex\n",
    "            \n",
    "            \n",
    "                \n",
    "2. Strings  : In Python, Strings are arrays of bytes representing Unicode\n",
    "          characters.Square brackets can be used to access elements of the string.           \n",
    "         \n",
    "    String Data Structure : 'Hy'        \n",
    "            \n",
    "3. List :  The list is a most versatile datatype available in Python\n",
    "    which can be written as a list of comma-separated values (items)\n",
    "    between square brackets. Important thing about a list is that items\n",
    "    in a list need not be of the same type. \n",
    "    \n",
    "    List Data Structure : List_A = [item 1, item 2, item 3….., item n]\n",
    "\n",
    "        \n",
    "4. Tuples : A Tuple is a collection of Python objects separated by commas.\n",
    "        In someways a tuple is similar to a list in terms of indexing, \n",
    "        nested objects and repetition but a tuple is immutable unlike lists\n",
    "        which are mutable.\n",
    "        \n",
    "        Tuples Data Structure : ('ob1', 'ob2', 1)\n",
    "            \n",
    "5. Dictionaries : Dictionary in Python is an unordered collection of data\n",
    "            values, used to store data values like a map, which, unlike other Data \n",
    "            Types that hold only a single value as an element, Dictionary holds \n",
    "            key:value pair. Key-value is provided in the dictionary to make it more \n",
    "            optimized. \n",
    "          Dictionaries data types : {'ob1' : 1, 'ob2' : 'vinay'}\n",
    "    "
   ]
  },
  {
   "cell_type": "markdown",
   "metadata": {
    "id": "QsiD6IhuE-h1"
   },
   "source": [
    "**Question 2. Given the string 'Rameshwaram' give an index command that returns 'shwar'. Enter your code in the cell below:**"
   ]
  },
  {
   "cell_type": "code",
   "execution_count": 4,
   "metadata": {
    "id": "EHEAMfaOFwUL"
   },
   "outputs": [
    {
     "name": "stdout",
     "output_type": "stream",
     "text": [
      "shwar\n"
     ]
    }
   ],
   "source": [
    "s='Rameshwaram'\n",
    "# Print out 'shwar' using indexing. \n",
    "\n",
    "print(s[4:-2])"
   ]
  },
  {
   "cell_type": "markdown",
   "metadata": {
    "id": "PFMxpBFZF7VX"
   },
   "source": [
    "**Question 3. Guess the output of  print(0.1+0.2==0.3), without running a code and write your answer in the text cell given below (shown below as Double-click (or enter) to edit). Use # before your answer to write in bold letters.**"
   ]
  },
  {
   "cell_type": "markdown",
   "metadata": {
    "id": "UzI1mAUDI-dq"
   },
   "source": [
    "True"
   ]
  },
  {
   "cell_type": "markdown",
   "metadata": {
    "id": "aCa7SmjqJAiL"
   },
   "source": [
    "**Question 4. Now run print(0.1+0.2==0.3) in the code cell. Check the result and compare with your guessed answer.\\\n",
    "Explain the output. You can use internet to search the answer.**"
   ]
  },
  {
   "cell_type": "code",
   "execution_count": 5,
   "metadata": {
    "id": "cXcBHTZALEti"
   },
   "outputs": [
    {
     "name": "stdout",
     "output_type": "stream",
     "text": [
      "False\n"
     ]
    }
   ],
   "source": [
    "print(0.1+0.2==0.3)\n",
    "\n",
    "#Explain the output\n",
    "Ohh I got failed to answer it.\n",
    "\n",
    "But after theresearching on internet I did understand\n",
    "This is an Computation problem\n",
    "because of its depends on machine floating data calculation."
   ]
  },
  {
   "cell_type": "markdown",
   "metadata": {
    "id": "_oaDKmBYK7vJ"
   },
   "source": [
    "**Question 5. Print a complex number 2+5i in three different ways.**\n"
   ]
  },
  {
   "cell_type": "code",
   "execution_count": 88,
   "metadata": {
    "id": "gW3_kVjSLY-_"
   },
   "outputs": [
    {
     "name": "stdout",
     "output_type": "stream",
     "text": [
      "2.0\n"
     ]
    }
   ],
   "source": [
    "# method 1\n",
    "com_p = complex(2,5)\n",
    "print(com_p.real)"
   ]
  },
  {
   "cell_type": "code",
   "execution_count": 90,
   "metadata": {
    "id": "XU3dxBxDLaf5"
   },
   "outputs": [
    {
     "name": "stdout",
     "output_type": "stream",
     "text": [
      "5.0\n"
     ]
    }
   ],
   "source": [
    "# method 2\n",
    "print(com_p.imag)"
   ]
  },
  {
   "cell_type": "code",
   "execution_count": 92,
   "metadata": {
    "id": "Dk38Zfm4MwFl"
   },
   "outputs": [
    {
     "name": "stdout",
     "output_type": "stream",
     "text": [
      "(2-5j)\n"
     ]
    }
   ],
   "source": [
    "# method 3\n",
    "print(com_p.conjugate())"
   ]
  },
  {
   "cell_type": "markdown",
   "metadata": {
    "id": "O9MH7n_ENPya"
   },
   "source": [
    "**Question 6. Run the following code and explain the outcome**"
   ]
  },
  {
   "cell_type": "code",
   "execution_count": 7,
   "metadata": {
    "id": "DOo5Ii2bNoqK"
   },
   "outputs": [
    {
     "ename": "SyntaxError",
     "evalue": "EOL while scanning string literal (Temp/ipykernel_16760/1099542609.py, line 6)",
     "output_type": "error",
     "traceback": [
      "\u001b[1;36m  File \u001b[1;32m\"C:\\Users\\vinay\\AppData\\Local\\Temp/ipykernel_16760/1099542609.py\"\u001b[1;36m, line \u001b[1;32m6\u001b[0m\n\u001b[1;33m    Explanation : it's not possible because of in python String are immutable\u001b[0m\n\u001b[1;37m                                                                              ^\u001b[0m\n\u001b[1;31mSyntaxError\u001b[0m\u001b[1;31m:\u001b[0m EOL while scanning string literal\n"
     ]
    }
   ],
   "source": [
    "#Explain the outcome of the following code\n",
    "s='Welcome'\n",
    "s[1]='w'\n",
    "\n",
    "\n",
    "Explanation : it's not possible because of in python String are immutable \n",
    "    that why be can not change value of S[1]"
   ]
  },
  {
   "cell_type": "markdown",
   "metadata": {
    "id": "YvDXGou6NtpO"
   },
   "source": [
    "**Question 7. Reassign 'hello' in this nested list to say 'goodbye' instead:**"
   ]
  },
  {
   "cell_type": "code",
   "execution_count": 11,
   "metadata": {
    "id": "6qYYTtdKOuXE"
   },
   "outputs": [
    {
     "name": "stdout",
     "output_type": "stream",
     "text": [
      "[1, 2, [3, 4, 'hello']]\n",
      "[1, 2, [3, 4, 'goobye']]\n"
     ]
    }
   ],
   "source": [
    "list1 = [1,2,[3,4,'hello']]\n",
    "print(list1)\n",
    "list1[-1][-1] = 'goobye'\n",
    "print(list1)"
   ]
  },
  {
   "cell_type": "markdown",
   "metadata": {
    "id": "pfGcGXxLO1Gr"
   },
   "source": [
    "**Question 8. Using keys and indexing, grab the 'hello' from the following dictionary:**"
   ]
  },
  {
   "cell_type": "code",
   "execution_count": 14,
   "metadata": {
    "id": "veuMZdOwPOop"
   },
   "outputs": [
    {
     "name": "stdout",
     "output_type": "stream",
     "text": [
      "hello\n"
     ]
    }
   ],
   "source": [
    "d = {'k1':[1,2,{'k2':['this is tricky',{'tough':[1,2,['hello']]}]}]}\n",
    "\n",
    "grab_hello = d['k1'][-1]['k2'][-1]['tough'][-1][0]\n",
    "print(grab_hello)"
   ]
  },
  {
   "cell_type": "markdown",
   "metadata": {
    "id": "TaujBNukPdU_"
   },
   "source": [
    "**Question 9. Can you sort a dictionary? Why or why not?**"
   ]
  },
  {
   "cell_type": "markdown",
   "metadata": {
    "id": "lUZp0nrtPn92"
   },
   "source": [
    "We can not sort Dictionary because of its keys But we can sort Dictionary by its values."
   ]
  },
  {
   "cell_type": "markdown",
   "metadata": {
    "id": "n86dmHIBQmal"
   },
   "source": [
    "**Question 10. Use a one line code to find the unique values of the list below**"
   ]
  },
  {
   "cell_type": "code",
   "execution_count": 17,
   "metadata": {
    "id": "ubq7cSabQx7J"
   },
   "outputs": [
    {
     "name": "stdout",
     "output_type": "stream",
     "text": [
      "{1, 2, 33, 4, 3, 11, 22}\n"
     ]
    }
   ],
   "source": [
    "list2 = [1,2,2,33,4,4,11,22,3,3,2]\n",
    "list2 = set(list2)\n",
    "\n",
    "print(list2)"
   ]
  },
  {
   "cell_type": "markdown",
   "metadata": {
    "id": "ylY17srmR0VC"
   },
   "source": [
    "**Question 11. Use for, .split(), and if to create a Statement that will print out words that start with 's':**"
   ]
  },
  {
   "cell_type": "code",
   "execution_count": 31,
   "metadata": {
    "id": "A5l_b4wKSBN0"
   },
   "outputs": [],
   "source": [
    "s = 'Print only the words that start with s in this sentence'"
   ]
  },
  {
   "cell_type": "code",
   "execution_count": 32,
   "metadata": {
    "id": "IK-kRB0dS-Zr"
   },
   "outputs": [
    {
     "name": "stdout",
     "output_type": "stream",
     "text": [
      "start\n",
      "s\n",
      "sentence\n"
     ]
    }
   ],
   "source": [
    "\n",
    "# write your code here\n",
    "ls = s.split()\n",
    "\n",
    "for alls in ls:\n",
    "    if(alls[0] == 's'):\n",
    "        print(alls)\n",
    "    \n",
    "        \n"
   ]
  },
  {
   "cell_type": "markdown",
   "metadata": {
    "id": "4ICVPrpPTNvV"
   },
   "source": [
    "**Question 12. Use range() to print all the even numbers from 0 to 50.**"
   ]
  },
  {
   "cell_type": "code",
   "execution_count": 33,
   "metadata": {
    "id": "7eKu7sNkTKXU"
   },
   "outputs": [
    {
     "name": "stdout",
     "output_type": "stream",
     "text": [
      "0\n",
      "2\n",
      "4\n",
      "6\n",
      "8\n",
      "10\n",
      "12\n",
      "14\n",
      "16\n",
      "18\n",
      "20\n",
      "22\n",
      "24\n",
      "26\n",
      "28\n",
      "30\n",
      "32\n",
      "34\n",
      "36\n",
      "38\n",
      "40\n",
      "42\n",
      "44\n",
      "46\n",
      "48\n"
     ]
    }
   ],
   "source": [
    "#code here\n",
    "for i in range(0,50):\n",
    "    if i % 2 == 0:\n",
    "        print(i)"
   ]
  },
  {
   "cell_type": "markdown",
   "metadata": {
    "id": "HxTt5f1ETZJE"
   },
   "source": [
    "**Question 13. Use List comprehension to create a list of all numbers between 1 and 50 that are divisible by 4.**"
   ]
  },
  {
   "cell_type": "code",
   "execution_count": 36,
   "metadata": {
    "id": "YtMp9_c8TYNt"
   },
   "outputs": [
    {
     "name": "stdout",
     "output_type": "stream",
     "text": [
      "[4, 8, 12, 16, 20, 24, 28, 32, 36, 40, 44, 48]\n"
     ]
    }
   ],
   "source": [
    "#code here\n",
    "lsdiv_4 = []\n",
    "for i in range(1,50):\n",
    "    if(i%4 == 0):\n",
    "        lsdiv_4.append(i)\n",
    "        \n",
    "print(lsdiv_4)\n",
    "        "
   ]
  },
  {
   "cell_type": "markdown",
   "metadata": {
    "id": "gFSVX2ufUKBN"
   },
   "source": [
    "**Question 14. Go through the string below and if the length of a word is even print \"even!\"**"
   ]
  },
  {
   "cell_type": "code",
   "execution_count": 46,
   "metadata": {
    "id": "eO6LD39yToAu"
   },
   "outputs": [
    {
     "name": "stdout",
     "output_type": "stream",
     "text": [
      "word is even!\n",
      "in is even!\n",
      "this is even!\n",
      "sentence is even!\n",
      "that is even!\n",
      "an is even!\n",
      "even is even!\n",
      "number is even!\n",
      "of is even!\n"
     ]
    }
   ],
   "source": [
    "s = 'Print every word in this sentence that has an even number of letters'\n",
    "#code here\n",
    "ls_s = s.split()\n",
    "\n",
    "for ls_n in ls_s:\n",
    "    if(len(ls_n)%2 == 0):\n",
    "           print(ls_n + ' is ' + \"even!\")\n",
    "            "
   ]
  },
  {
   "cell_type": "markdown",
   "metadata": {
    "id": "FyuupCI9WLwx"
   },
   "source": [
    "**Question 15. Write a Python function to check whether a string is pangram or not. (Assume the string passed in does not have any punctuation)**\n",
    "\n",
    "    Note : Pangrams are words or sentences containing every letter of the alphabet at least once.\n",
    "    For example : \"The quick brown fox jumps over the lazy dog\"\n",
    "\n",
    "Hint: You may want to use .replace() method to get rid of spaces.\n",
    "\n",
    "Hint: Look at the [string module](https://stackoverflow.com/questions/16060899/alphabet-range-in-python)\n",
    "\n",
    "Hint: In case you want to use [set comparisons](https://medium.com/better-programming/a-visual-guide-to-set-comparisons-in-python-6ab7edb9ec41)"
   ]
  },
  {
   "cell_type": "code",
   "execution_count": 100,
   "metadata": {
    "colab": {
     "base_uri": "https://localhost:8080/",
     "height": 35
    },
    "id": "ZFZMA0BqW35h",
    "outputId": "91dc0cff-a525-4604-b47b-7c058047c074"
   },
   "outputs": [
    {
     "data": {
      "text/plain": [
       "'abcdefghijklmnopqrstuvwxyz'"
      ]
     },
     "execution_count": 100,
     "metadata": {},
     "output_type": "execute_result"
    }
   ],
   "source": [
    "import string\n",
    "string.ascii_lowercase #Check the output of this line of code\n",
    "\n",
    "\n",
    "\n",
    "\n"
   ]
  },
  {
   "cell_type": "code",
   "execution_count": 101,
   "metadata": {
    "id": "sozlvYNlWUZN"
   },
   "outputs": [],
   "source": [
    "def ispangram(str1, alphabet=string.ascii_lowercase):\n",
    "    ls_alphabet = list(alphabet)\n",
    "    ls_str1 = list[str1]\n",
    "    \n",
    "    new_ls = []\n",
    "    \n",
    "    for every in str1:\n",
    "        if(every in ls_alphabet):\n",
    "            new_ls.append(every)\n",
    "   \n",
    "    \n",
    "    if(len(set(ls_alphabet)) == len(set(new_ls))):\n",
    "        return 'yes this is pangram'\n",
    "    if(len(set(ls_alphabet)) != len(set(new_ls))):\n",
    "        return 'NOt this is not a pangram'\n",
    "           "
   ]
  },
  {
   "cell_type": "code",
   "execution_count": 105,
   "metadata": {
    "id": "-GlLR1n7Wowx"
   },
   "outputs": [
    {
     "data": {
      "text/plain": [
       "'yes this is pangram'"
      ]
     },
     "execution_count": 105,
     "metadata": {},
     "output_type": "execute_result"
    }
   ],
   "source": [
    "\n",
    "ispangram(\"The quick brown fox jumps over the lazy dog\")"
   ]
  },
  {
   "cell_type": "markdown",
   "metadata": {
    "id": "ONZhLpcbXoqa"
   },
   "source": [
    "**Question 16.** **Object Oriented Programming Challenge**\n",
    "\n",
    "For this challenge, create a bank account class that has two attributes:\n",
    "\n",
    "* owner\n",
    "* balance\n",
    "\n",
    "and two methods:\n",
    "\n",
    "* deposit\n",
    "* withdraw\n",
    "\n",
    "As an added requirement, withdrawals may not exceed the available balance.\n",
    "\n",
    "Instantiate your class, make several deposits and withdrawals, and test to make sure the account can't be overdrawn."
   ]
  },
  {
   "cell_type": "code",
   "execution_count": 48,
   "metadata": {
    "id": "UgAFs8j5XpTF"
   },
   "outputs": [],
   "source": [
    "class Account:\n",
    "    def __init__(self,owner, balance):\n",
    "        self.owner = owner\n",
    "        self.balance = balance\n",
    "        \n",
    "    \n",
    "    def deposit(self,dep_mn):\n",
    "        return 'Deposit Accepted'\n",
    "    \n",
    "    def withdraw(self,with_mn):\n",
    "        self.with_mn = with_mn\n",
    "        if self.with_mn > self.balance:\n",
    "            return 'Funds Unavailable!'\n",
    "        else:\n",
    "            return 'withdraw Accepted'\n",
    "        \n",
    "    \n",
    "      \n",
    "    "
   ]
  },
  {
   "cell_type": "code",
   "execution_count": 49,
   "metadata": {
    "id": "23NemEWdX7Ox"
   },
   "outputs": [],
   "source": [
    "# 1. Instantiate the class\n",
    "acct1 = Account('Prepleaf',1000)"
   ]
  },
  {
   "cell_type": "code",
   "execution_count": 50,
   "metadata": {
    "id": "oiXA054vYAX8"
   },
   "outputs": [
    {
     "name": "stdout",
     "output_type": "stream",
     "text": [
      "Account owner : Prepleaf\n",
      "Account Balance :1000\n"
     ]
    }
   ],
   "source": [
    "# 2. Print the object\n",
    "print('Account owner : ' + str(acct1.owner) +'\\n'+ 'Account Balance :' + str(acct1.balance))\n",
    "\n",
    "# output:\n",
    "#Account owner:   Prepleaf\n",
    "#Account balance: $1000"
   ]
  },
  {
   "cell_type": "code",
   "execution_count": 51,
   "metadata": {
    "id": "OK5xj90MYGYe"
   },
   "outputs": [
    {
     "data": {
      "text/plain": [
       "'Prepleaf'"
      ]
     },
     "execution_count": 51,
     "metadata": {},
     "output_type": "execute_result"
    }
   ],
   "source": [
    "# 3. Show the account owner attribute\n",
    "acct1.owner\n",
    "#output:\n",
    "#'Prepleaf'"
   ]
  },
  {
   "cell_type": "code",
   "execution_count": 52,
   "metadata": {
    "id": "3vvQkNypYmRU"
   },
   "outputs": [
    {
     "data": {
      "text/plain": [
       "1000"
      ]
     },
     "execution_count": 52,
     "metadata": {},
     "output_type": "execute_result"
    }
   ],
   "source": [
    "# 4. Show the account balance attribute\n",
    "acct1.balance\n",
    "#output:\n",
    "#1000"
   ]
  },
  {
   "cell_type": "code",
   "execution_count": 53,
   "metadata": {
    "id": "71696TI5Yu4h"
   },
   "outputs": [
    {
     "data": {
      "text/plain": [
       "'Deposit Accepted'"
      ]
     },
     "execution_count": 53,
     "metadata": {},
     "output_type": "execute_result"
    }
   ],
   "source": [
    "# 5. Make a series of deposits and withdrawals\n",
    "acct1.deposit(50)\n",
    "#output:\n",
    "#Deposit Accepted"
   ]
  },
  {
   "cell_type": "code",
   "execution_count": 54,
   "metadata": {
    "id": "pzhFWs2tY8M4"
   },
   "outputs": [
    {
     "data": {
      "text/plain": [
       "'withdraw Accepted'"
      ]
     },
     "execution_count": 54,
     "metadata": {},
     "output_type": "execute_result"
    }
   ],
   "source": [
    "acct1.withdraw(75)\n",
    "#output:\n",
    "#Withdrawal Accepted"
   ]
  },
  {
   "cell_type": "code",
   "execution_count": 55,
   "metadata": {
    "id": "yA-8Y6cOZEnj",
    "outputId": "25ee9fb8-d039-4de2-de6d-bc3012dc6b91"
   },
   "outputs": [
    {
     "data": {
      "text/plain": [
       "'Funds Unavailable!'"
      ]
     },
     "execution_count": 55,
     "metadata": {},
     "output_type": "execute_result"
    }
   ],
   "source": [
    "# 6. Make a withdrawal that exceeds the available balance\n",
    "acct1.withdraw(1500)\n",
    "#output:\n",
    "#Funds Unavailable!"
   ]
  },
  {
   "cell_type": "markdown",
   "metadata": {
    "id": "-PFTt2tyJKCc"
   },
   "source": [
    "Question 17.  combine given two series to form a dataframe with columns names as col1, col2 and print the first five rows.\n",
    "\n"
   ]
  },
  {
   "cell_type": "code",
   "execution_count": 58,
   "metadata": {
    "id": "XKPf2GIUJKCc"
   },
   "outputs": [
    {
     "data": {
      "text/html": [
       "<div>\n",
       "<style scoped>\n",
       "    .dataframe tbody tr th:only-of-type {\n",
       "        vertical-align: middle;\n",
       "    }\n",
       "\n",
       "    .dataframe tbody tr th {\n",
       "        vertical-align: top;\n",
       "    }\n",
       "\n",
       "    .dataframe thead th {\n",
       "        text-align: right;\n",
       "    }\n",
       "</style>\n",
       "<table border=\"1\" class=\"dataframe\">\n",
       "  <thead>\n",
       "    <tr style=\"text-align: right;\">\n",
       "      <th></th>\n",
       "      <th>0</th>\n",
       "      <th>1</th>\n",
       "    </tr>\n",
       "  </thead>\n",
       "  <tbody>\n",
       "    <tr>\n",
       "      <th>0</th>\n",
       "      <td>a</td>\n",
       "      <td>0</td>\n",
       "    </tr>\n",
       "    <tr>\n",
       "      <th>1</th>\n",
       "      <td>b</td>\n",
       "      <td>1</td>\n",
       "    </tr>\n",
       "    <tr>\n",
       "      <th>2</th>\n",
       "      <td>c</td>\n",
       "      <td>2</td>\n",
       "    </tr>\n",
       "    <tr>\n",
       "      <th>3</th>\n",
       "      <td>e</td>\n",
       "      <td>3</td>\n",
       "    </tr>\n",
       "    <tr>\n",
       "      <th>4</th>\n",
       "      <td>d</td>\n",
       "      <td>4</td>\n",
       "    </tr>\n",
       "    <tr>\n",
       "      <th>5</th>\n",
       "      <td>f</td>\n",
       "      <td>5</td>\n",
       "    </tr>\n",
       "    <tr>\n",
       "      <th>6</th>\n",
       "      <td>g</td>\n",
       "      <td>6</td>\n",
       "    </tr>\n",
       "    <tr>\n",
       "      <th>7</th>\n",
       "      <td>h</td>\n",
       "      <td>7</td>\n",
       "    </tr>\n",
       "    <tr>\n",
       "      <th>8</th>\n",
       "      <td>i</td>\n",
       "      <td>8</td>\n",
       "    </tr>\n",
       "    <tr>\n",
       "      <th>9</th>\n",
       "      <td>j</td>\n",
       "      <td>9</td>\n",
       "    </tr>\n",
       "    <tr>\n",
       "      <th>10</th>\n",
       "      <td>k</td>\n",
       "      <td>10</td>\n",
       "    </tr>\n",
       "    <tr>\n",
       "      <th>11</th>\n",
       "      <td>l</td>\n",
       "      <td>11</td>\n",
       "    </tr>\n",
       "    <tr>\n",
       "      <th>12</th>\n",
       "      <td>m</td>\n",
       "      <td>12</td>\n",
       "    </tr>\n",
       "    <tr>\n",
       "      <th>13</th>\n",
       "      <td>n</td>\n",
       "      <td>13</td>\n",
       "    </tr>\n",
       "    <tr>\n",
       "      <th>14</th>\n",
       "      <td>o</td>\n",
       "      <td>14</td>\n",
       "    </tr>\n",
       "    <tr>\n",
       "      <th>15</th>\n",
       "      <td>p</td>\n",
       "      <td>15</td>\n",
       "    </tr>\n",
       "    <tr>\n",
       "      <th>16</th>\n",
       "      <td>q</td>\n",
       "      <td>16</td>\n",
       "    </tr>\n",
       "    <tr>\n",
       "      <th>17</th>\n",
       "      <td>r</td>\n",
       "      <td>17</td>\n",
       "    </tr>\n",
       "    <tr>\n",
       "      <th>18</th>\n",
       "      <td>s</td>\n",
       "      <td>18</td>\n",
       "    </tr>\n",
       "    <tr>\n",
       "      <th>19</th>\n",
       "      <td>t</td>\n",
       "      <td>19</td>\n",
       "    </tr>\n",
       "    <tr>\n",
       "      <th>20</th>\n",
       "      <td>u</td>\n",
       "      <td>20</td>\n",
       "    </tr>\n",
       "    <tr>\n",
       "      <th>21</th>\n",
       "      <td>v</td>\n",
       "      <td>21</td>\n",
       "    </tr>\n",
       "    <tr>\n",
       "      <th>22</th>\n",
       "      <td>w</td>\n",
       "      <td>22</td>\n",
       "    </tr>\n",
       "    <tr>\n",
       "      <th>23</th>\n",
       "      <td>x</td>\n",
       "      <td>23</td>\n",
       "    </tr>\n",
       "    <tr>\n",
       "      <th>24</th>\n",
       "      <td>y</td>\n",
       "      <td>24</td>\n",
       "    </tr>\n",
       "    <tr>\n",
       "      <th>25</th>\n",
       "      <td>z</td>\n",
       "      <td>25</td>\n",
       "    </tr>\n",
       "  </tbody>\n",
       "</table>\n",
       "</div>"
      ],
      "text/plain": [
       "    0   1\n",
       "0   a   0\n",
       "1   b   1\n",
       "2   c   2\n",
       "3   e   3\n",
       "4   d   4\n",
       "5   f   5\n",
       "6   g   6\n",
       "7   h   7\n",
       "8   i   8\n",
       "9   j   9\n",
       "10  k  10\n",
       "11  l  11\n",
       "12  m  12\n",
       "13  n  13\n",
       "14  o  14\n",
       "15  p  15\n",
       "16  q  16\n",
       "17  r  17\n",
       "18  s  18\n",
       "19  t  19\n",
       "20  u  20\n",
       "21  v  21\n",
       "22  w  22\n",
       "23  x  23\n",
       "24  y  24\n",
       "25  z  25"
      ]
     },
     "execution_count": 58,
     "metadata": {},
     "output_type": "execute_result"
    }
   ],
   "source": [
    "import pandas as pd\n",
    "import numpy as np\n",
    "ser1 = pd.Series(list('abcedfghijklmnopqrstuvwxyz'))\n",
    "ser2 = pd.Series(np.arange(26))\n",
    "\n",
    "new_df = pd.concat([ser1,ser2], axis =1)\n",
    "new_df"
   ]
  },
  {
   "cell_type": "markdown",
   "metadata": {
    "id": "lV-2bLOvJOGq"
   },
   "source": [
    "Question 18. Given the data. Which manufacturer, model and type has the highest Price?"
   ]
  },
  {
   "cell_type": "code",
   "execution_count": 80,
   "metadata": {
    "id": "RYEOEp7XJKCd",
    "scrolled": true
   },
   "outputs": [
    {
     "data": {
      "text/html": [
       "<div>\n",
       "<style scoped>\n",
       "    .dataframe tbody tr th:only-of-type {\n",
       "        vertical-align: middle;\n",
       "    }\n",
       "\n",
       "    .dataframe tbody tr th {\n",
       "        vertical-align: top;\n",
       "    }\n",
       "\n",
       "    .dataframe thead th {\n",
       "        text-align: right;\n",
       "    }\n",
       "</style>\n",
       "<table border=\"1\" class=\"dataframe\">\n",
       "  <thead>\n",
       "    <tr style=\"text-align: right;\">\n",
       "      <th></th>\n",
       "      <th>Manufacturer</th>\n",
       "      <th>Model</th>\n",
       "      <th>Type</th>\n",
       "      <th>Min.Price</th>\n",
       "      <th>Price</th>\n",
       "      <th>Max.Price</th>\n",
       "      <th>MPG.city</th>\n",
       "      <th>MPG.highway</th>\n",
       "      <th>AirBags</th>\n",
       "      <th>DriveTrain</th>\n",
       "      <th>...</th>\n",
       "      <th>Passengers</th>\n",
       "      <th>Length</th>\n",
       "      <th>Wheelbase</th>\n",
       "      <th>Width</th>\n",
       "      <th>Turn.circle</th>\n",
       "      <th>Rear.seat.room</th>\n",
       "      <th>Luggage.room</th>\n",
       "      <th>Weight</th>\n",
       "      <th>Origin</th>\n",
       "      <th>Make</th>\n",
       "    </tr>\n",
       "  </thead>\n",
       "  <tbody>\n",
       "    <tr>\n",
       "      <th>58</th>\n",
       "      <td>Mercedes-Benz</td>\n",
       "      <td>300E</td>\n",
       "      <td>Midsize</td>\n",
       "      <td>43.8</td>\n",
       "      <td>61.9</td>\n",
       "      <td>80.0</td>\n",
       "      <td>19.0</td>\n",
       "      <td>25.0</td>\n",
       "      <td>Driver &amp; Passenger</td>\n",
       "      <td>Rear</td>\n",
       "      <td>...</td>\n",
       "      <td>5.0</td>\n",
       "      <td>NaN</td>\n",
       "      <td>110.0</td>\n",
       "      <td>69.0</td>\n",
       "      <td>37.0</td>\n",
       "      <td>NaN</td>\n",
       "      <td>15.0</td>\n",
       "      <td>3525.0</td>\n",
       "      <td>non-USA</td>\n",
       "      <td>Mercedes-Benz 300E</td>\n",
       "    </tr>\n",
       "    <tr>\n",
       "      <th>47</th>\n",
       "      <td>Infiniti</td>\n",
       "      <td>Q45</td>\n",
       "      <td>Midsize</td>\n",
       "      <td>45.4</td>\n",
       "      <td>47.9</td>\n",
       "      <td>NaN</td>\n",
       "      <td>17.0</td>\n",
       "      <td>22.0</td>\n",
       "      <td>NaN</td>\n",
       "      <td>Rear</td>\n",
       "      <td>...</td>\n",
       "      <td>5.0</td>\n",
       "      <td>200.0</td>\n",
       "      <td>113.0</td>\n",
       "      <td>72.0</td>\n",
       "      <td>42.0</td>\n",
       "      <td>29.0</td>\n",
       "      <td>15.0</td>\n",
       "      <td>4000.0</td>\n",
       "      <td>non-USA</td>\n",
       "      <td>Infiniti Q45</td>\n",
       "    </tr>\n",
       "    <tr>\n",
       "      <th>10</th>\n",
       "      <td>Cadillac</td>\n",
       "      <td>Seville</td>\n",
       "      <td>Midsize</td>\n",
       "      <td>37.5</td>\n",
       "      <td>40.1</td>\n",
       "      <td>42.7</td>\n",
       "      <td>16.0</td>\n",
       "      <td>25.0</td>\n",
       "      <td>Driver &amp; Passenger</td>\n",
       "      <td>Front</td>\n",
       "      <td>...</td>\n",
       "      <td>5.0</td>\n",
       "      <td>204.0</td>\n",
       "      <td>111.0</td>\n",
       "      <td>74.0</td>\n",
       "      <td>44.0</td>\n",
       "      <td>31.0</td>\n",
       "      <td>NaN</td>\n",
       "      <td>3935.0</td>\n",
       "      <td>USA</td>\n",
       "      <td>Cadillac Seville</td>\n",
       "    </tr>\n",
       "    <tr>\n",
       "      <th>18</th>\n",
       "      <td>Chevrolet</td>\n",
       "      <td>Corvette</td>\n",
       "      <td>Sporty</td>\n",
       "      <td>34.6</td>\n",
       "      <td>38.0</td>\n",
       "      <td>41.5</td>\n",
       "      <td>17.0</td>\n",
       "      <td>25.0</td>\n",
       "      <td>Driver only</td>\n",
       "      <td>Rear</td>\n",
       "      <td>...</td>\n",
       "      <td>2.0</td>\n",
       "      <td>179.0</td>\n",
       "      <td>96.0</td>\n",
       "      <td>74.0</td>\n",
       "      <td>43.0</td>\n",
       "      <td>NaN</td>\n",
       "      <td>NaN</td>\n",
       "      <td>3380.0</td>\n",
       "      <td>NaN</td>\n",
       "      <td>Chevrolet Corvette</td>\n",
       "    </tr>\n",
       "    <tr>\n",
       "      <th>3</th>\n",
       "      <td>Audi</td>\n",
       "      <td>100</td>\n",
       "      <td>Midsize</td>\n",
       "      <td>NaN</td>\n",
       "      <td>37.7</td>\n",
       "      <td>44.6</td>\n",
       "      <td>19.0</td>\n",
       "      <td>26.0</td>\n",
       "      <td>Driver &amp; Passenger</td>\n",
       "      <td>NaN</td>\n",
       "      <td>...</td>\n",
       "      <td>6.0</td>\n",
       "      <td>193.0</td>\n",
       "      <td>106.0</td>\n",
       "      <td>NaN</td>\n",
       "      <td>37.0</td>\n",
       "      <td>31.0</td>\n",
       "      <td>17.0</td>\n",
       "      <td>3405.0</td>\n",
       "      <td>non-USA</td>\n",
       "      <td>Audi 100</td>\n",
       "    </tr>\n",
       "    <tr>\n",
       "      <th>...</th>\n",
       "      <td>...</td>\n",
       "      <td>...</td>\n",
       "      <td>...</td>\n",
       "      <td>...</td>\n",
       "      <td>...</td>\n",
       "      <td>...</td>\n",
       "      <td>...</td>\n",
       "      <td>...</td>\n",
       "      <td>...</td>\n",
       "      <td>...</td>\n",
       "      <td>...</td>\n",
       "      <td>...</td>\n",
       "      <td>...</td>\n",
       "      <td>...</td>\n",
       "      <td>...</td>\n",
       "      <td>...</td>\n",
       "      <td>...</td>\n",
       "      <td>...</td>\n",
       "      <td>...</td>\n",
       "      <td>...</td>\n",
       "      <td>...</td>\n",
       "    </tr>\n",
       "    <tr>\n",
       "      <th>52</th>\n",
       "      <td>Mazda</td>\n",
       "      <td>323</td>\n",
       "      <td>Small</td>\n",
       "      <td>7.4</td>\n",
       "      <td>8.3</td>\n",
       "      <td>9.1</td>\n",
       "      <td>29.0</td>\n",
       "      <td>37.0</td>\n",
       "      <td>None</td>\n",
       "      <td>Front</td>\n",
       "      <td>...</td>\n",
       "      <td>4.0</td>\n",
       "      <td>164.0</td>\n",
       "      <td>97.0</td>\n",
       "      <td>66.0</td>\n",
       "      <td>34.0</td>\n",
       "      <td>27.0</td>\n",
       "      <td>16.0</td>\n",
       "      <td>2325.0</td>\n",
       "      <td>non-USA</td>\n",
       "      <td>Mazda 323</td>\n",
       "    </tr>\n",
       "    <tr>\n",
       "      <th>43</th>\n",
       "      <td>Hyundai</td>\n",
       "      <td>Excel</td>\n",
       "      <td>Small</td>\n",
       "      <td>6.8</td>\n",
       "      <td>8.0</td>\n",
       "      <td>9.2</td>\n",
       "      <td>29.0</td>\n",
       "      <td>33.0</td>\n",
       "      <td>None</td>\n",
       "      <td>Front</td>\n",
       "      <td>...</td>\n",
       "      <td>5.0</td>\n",
       "      <td>168.0</td>\n",
       "      <td>94.0</td>\n",
       "      <td>63.0</td>\n",
       "      <td>35.0</td>\n",
       "      <td>26.0</td>\n",
       "      <td>11.0</td>\n",
       "      <td>2345.0</td>\n",
       "      <td>non-USA</td>\n",
       "      <td>Hyundai Excel</td>\n",
       "    </tr>\n",
       "    <tr>\n",
       "      <th>30</th>\n",
       "      <td>Ford</td>\n",
       "      <td>Festiva</td>\n",
       "      <td>Small</td>\n",
       "      <td>6.9</td>\n",
       "      <td>7.4</td>\n",
       "      <td>7.9</td>\n",
       "      <td>31.0</td>\n",
       "      <td>33.0</td>\n",
       "      <td>NaN</td>\n",
       "      <td>Front</td>\n",
       "      <td>...</td>\n",
       "      <td>4.0</td>\n",
       "      <td>141.0</td>\n",
       "      <td>90.0</td>\n",
       "      <td>63.0</td>\n",
       "      <td>33.0</td>\n",
       "      <td>26.0</td>\n",
       "      <td>12.0</td>\n",
       "      <td>1845.0</td>\n",
       "      <td>USA</td>\n",
       "      <td>Ford Festiva</td>\n",
       "    </tr>\n",
       "    <tr>\n",
       "      <th>78</th>\n",
       "      <td>Saturn</td>\n",
       "      <td>SL</td>\n",
       "      <td>Small</td>\n",
       "      <td>9.2</td>\n",
       "      <td>NaN</td>\n",
       "      <td>12.9</td>\n",
       "      <td>NaN</td>\n",
       "      <td>38.0</td>\n",
       "      <td>Driver only</td>\n",
       "      <td>Front</td>\n",
       "      <td>...</td>\n",
       "      <td>5.0</td>\n",
       "      <td>176.0</td>\n",
       "      <td>102.0</td>\n",
       "      <td>68.0</td>\n",
       "      <td>40.0</td>\n",
       "      <td>26.5</td>\n",
       "      <td>NaN</td>\n",
       "      <td>2495.0</td>\n",
       "      <td>USA</td>\n",
       "      <td>Saturn SL</td>\n",
       "    </tr>\n",
       "    <tr>\n",
       "      <th>85</th>\n",
       "      <td>Toyota</td>\n",
       "      <td>Camry</td>\n",
       "      <td>Midsize</td>\n",
       "      <td>15.2</td>\n",
       "      <td>NaN</td>\n",
       "      <td>21.2</td>\n",
       "      <td>22.0</td>\n",
       "      <td>29.0</td>\n",
       "      <td>Driver only</td>\n",
       "      <td>NaN</td>\n",
       "      <td>...</td>\n",
       "      <td>5.0</td>\n",
       "      <td>188.0</td>\n",
       "      <td>103.0</td>\n",
       "      <td>70.0</td>\n",
       "      <td>38.0</td>\n",
       "      <td>28.5</td>\n",
       "      <td>15.0</td>\n",
       "      <td>3030.0</td>\n",
       "      <td>non-USA</td>\n",
       "      <td>Toyota Camry</td>\n",
       "    </tr>\n",
       "  </tbody>\n",
       "</table>\n",
       "<p>93 rows × 27 columns</p>\n",
       "</div>"
      ],
      "text/plain": [
       "     Manufacturer     Model     Type  Min.Price  Price  Max.Price  MPG.city  \\\n",
       "58  Mercedes-Benz      300E  Midsize       43.8   61.9       80.0      19.0   \n",
       "47       Infiniti       Q45  Midsize       45.4   47.9        NaN      17.0   \n",
       "10       Cadillac   Seville  Midsize       37.5   40.1       42.7      16.0   \n",
       "18      Chevrolet  Corvette   Sporty       34.6   38.0       41.5      17.0   \n",
       "3            Audi       100  Midsize        NaN   37.7       44.6      19.0   \n",
       "..            ...       ...      ...        ...    ...        ...       ...   \n",
       "52          Mazda       323    Small        7.4    8.3        9.1      29.0   \n",
       "43        Hyundai     Excel    Small        6.8    8.0        9.2      29.0   \n",
       "30           Ford   Festiva    Small        6.9    7.4        7.9      31.0   \n",
       "78         Saturn        SL    Small        9.2    NaN       12.9       NaN   \n",
       "85         Toyota     Camry  Midsize       15.2    NaN       21.2      22.0   \n",
       "\n",
       "    MPG.highway             AirBags DriveTrain  ... Passengers  Length  \\\n",
       "58         25.0  Driver & Passenger       Rear  ...        5.0     NaN   \n",
       "47         22.0                 NaN       Rear  ...        5.0   200.0   \n",
       "10         25.0  Driver & Passenger      Front  ...        5.0   204.0   \n",
       "18         25.0         Driver only       Rear  ...        2.0   179.0   \n",
       "3          26.0  Driver & Passenger        NaN  ...        6.0   193.0   \n",
       "..          ...                 ...        ...  ...        ...     ...   \n",
       "52         37.0                None      Front  ...        4.0   164.0   \n",
       "43         33.0                None      Front  ...        5.0   168.0   \n",
       "30         33.0                 NaN      Front  ...        4.0   141.0   \n",
       "78         38.0         Driver only      Front  ...        5.0   176.0   \n",
       "85         29.0         Driver only        NaN  ...        5.0   188.0   \n",
       "\n",
       "    Wheelbase  Width  Turn.circle Rear.seat.room  Luggage.room  Weight  \\\n",
       "58      110.0   69.0         37.0            NaN          15.0  3525.0   \n",
       "47      113.0   72.0         42.0           29.0          15.0  4000.0   \n",
       "10      111.0   74.0         44.0           31.0           NaN  3935.0   \n",
       "18       96.0   74.0         43.0            NaN           NaN  3380.0   \n",
       "3       106.0    NaN         37.0           31.0          17.0  3405.0   \n",
       "..        ...    ...          ...            ...           ...     ...   \n",
       "52       97.0   66.0         34.0           27.0          16.0  2325.0   \n",
       "43       94.0   63.0         35.0           26.0          11.0  2345.0   \n",
       "30       90.0   63.0         33.0           26.0          12.0  1845.0   \n",
       "78      102.0   68.0         40.0           26.5           NaN  2495.0   \n",
       "85      103.0   70.0         38.0           28.5          15.0  3030.0   \n",
       "\n",
       "     Origin                Make  \n",
       "58  non-USA  Mercedes-Benz 300E  \n",
       "47  non-USA        Infiniti Q45  \n",
       "10      USA    Cadillac Seville  \n",
       "18      NaN  Chevrolet Corvette  \n",
       "3   non-USA            Audi 100  \n",
       "..      ...                 ...  \n",
       "52  non-USA           Mazda 323  \n",
       "43  non-USA       Hyundai Excel  \n",
       "30      USA        Ford Festiva  \n",
       "78      USA           Saturn SL  \n",
       "85  non-USA        Toyota Camry  \n",
       "\n",
       "[93 rows x 27 columns]"
      ]
     },
     "execution_count": 80,
     "metadata": {},
     "output_type": "execute_result"
    }
   ],
   "source": [
    " df = pd.read_csv('https://raw.githubusercontent.com/selva86/datasets/master/Cars93_miss.csv')\n",
    " pd.DataFrame()\n",
    "#  df[['Model','Price','Type']]\n",
    " df.sort_values(by=['Price'],ascending=False)\n",
    "    "
   ]
  },
  {
   "cell_type": "markdown",
   "metadata": {
    "id": "8Qvygcr5JR85"
   },
   "source": [
    "Question 19. What is the row and column number of the cell with the highest Price value?\n",
    "\n",
    "Answer :\n",
    "\n",
    "Row Number : 6\n",
    "Column : 58"
   ]
  },
  {
   "cell_type": "markdown",
   "metadata": {
    "id": "eMgH_YF2JV3H"
   },
   "source": [
    "Question 20. Run this code. If you get an error. Use exceptional handling to print as \"An error occurred\" when error occurs."
   ]
  },
  {
   "cell_type": "code",
   "execution_count": 86,
   "metadata": {
    "id": "QfvU9ktLJKCe",
    "outputId": "a0667217-2d07-4e9a-a1b1-840b6536f189"
   },
   "outputs": [
    {
     "name": "stdout",
     "output_type": "stream",
     "text": [
      "range(0, 5)\n",
      "1\n",
      "2\n",
      "3\n",
      "4\n"
     ]
    },
    {
     "ename": "IndexError",
     "evalue": "list index out of range",
     "output_type": "error",
     "traceback": [
      "\u001b[1;31m---------------------------------------------------------------------------\u001b[0m",
      "\u001b[1;31mIndexError\u001b[0m                                Traceback (most recent call last)",
      "\u001b[1;32m~\\AppData\\Local\\Temp/ipykernel_13080/2634559656.py\u001b[0m in \u001b[0;36m<module>\u001b[1;34m\u001b[0m\n\u001b[0;32m      3\u001b[0m \u001b[1;33m\u001b[0m\u001b[0m\n\u001b[0;32m      4\u001b[0m \u001b[1;32mfor\u001b[0m \u001b[0mi\u001b[0m \u001b[1;32min\u001b[0m \u001b[0mrange\u001b[0m\u001b[1;33m(\u001b[0m\u001b[1;36m5\u001b[0m\u001b[1;33m)\u001b[0m\u001b[1;33m:\u001b[0m\u001b[1;33m\u001b[0m\u001b[1;33m\u001b[0m\u001b[0m\n\u001b[1;32m----> 5\u001b[1;33m     \u001b[0mprint\u001b[0m\u001b[1;33m(\u001b[0m\u001b[0mlist\u001b[0m\u001b[1;33m[\u001b[0m\u001b[0mi\u001b[0m\u001b[1;33m]\u001b[0m\u001b[1;33m)\u001b[0m\u001b[1;33m\u001b[0m\u001b[1;33m\u001b[0m\u001b[0m\n\u001b[0m\u001b[0;32m      6\u001b[0m \u001b[1;33m\u001b[0m\u001b[0m\n\u001b[0;32m      7\u001b[0m \u001b[1;33m\u001b[0m\u001b[0m\n",
      "\u001b[1;31mIndexError\u001b[0m: list index out of range"
     ]
    }
   ],
   "source": [
    "\n",
    "list = [1,2,3,4]\n",
    "\n",
    "for i in range(5):\n",
    "    print(list[i])\n",
    "    \n",
    "  "
   ]
  },
  {
   "cell_type": "markdown",
   "metadata": {
    "id": "LFFssLpQJKCe"
   },
   "source": [
    "It's throwing an error because of list out of the range. Here is the length of list is 3 but for loop wants to print greater than list  length "
   ]
  }
 ],
 "metadata": {
  "colab": {
   "name": "Assignment7",
   "provenance": []
  },
  "kernelspec": {
   "display_name": "Python 3 (ipykernel)",
   "language": "python",
   "name": "python3"
  },
  "language_info": {
   "codemirror_mode": {
    "name": "ipython",
    "version": 3
   },
   "file_extension": ".py",
   "mimetype": "text/x-python",
   "name": "python",
   "nbconvert_exporter": "python",
   "pygments_lexer": "ipython3",
   "version": "3.9.7"
  }
 },
 "nbformat": 4,
 "nbformat_minor": 1
}

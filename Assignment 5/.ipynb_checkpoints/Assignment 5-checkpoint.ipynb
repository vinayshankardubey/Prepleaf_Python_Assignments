{
 "cells": [
  {
   "cell_type": "markdown",
   "metadata": {
    "id": "kkb8ko8fAO4z"
   },
   "source": [
    "#Python Assessment Test"
   ]
  },
  {
   "cell_type": "markdown",
   "metadata": {
    "id": "d4iQYYo7AtJ9"
   },
   "source": [
    "**Question 1. For the full answers, review the notebook introductions of each topic!. Describe the following object type data                stuctures\n",
    "1. Numbers\n",
    "2. Strings\n",
    "3. List\n",
    "4. Tuples\n",
    "5. Dictionaries\n",
    "\n",
    "Use text cells to write your answers."
   ]
  },
  {
   "cell_type": "markdown",
   "metadata": {
    "id": "Bjf-K3lSuynI"
   },
   "source": [
    "1. Numbers : Number data types store numeric values.\n",
    "            They are immutable data types, \n",
    "            means that changing the value of a number data type results in a newly\n",
    "            allocated object.\n",
    "            \n",
    "            Python supports four different numeris data types:\n",
    "                1. int\n",
    "                2. long\n",
    "                3. flot\n",
    "                4. comlpex\n",
    "            \n",
    "            \n",
    "                \n",
    "2. Strings  : In Python, Strings are arrays of bytes representing Unicode\n",
    "          characters.Square brackets can be used to access elements of the string.           \n",
    "         \n",
    "    String Data Structure : 'Hy'        \n",
    "            \n",
    "3. List :  The list is a most versatile datatype available in Python\n",
    "    which can be written as a list of comma-separated values (items)\n",
    "    between square brackets. Important thing about a list is that items\n",
    "    in a list need not be of the same type. \n",
    "    \n",
    "    List Data Structure : List_A = [item 1, item 2, item 3….., item n]\n",
    "\n",
    "        \n",
    "4. Tuples : A Tuple is a collection of Python objects separated by commas.\n",
    "        In someways a tuple is similar to a list in terms of indexing, \n",
    "        nested objects and repetition but a tuple is immutable unlike lists\n",
    "        which are mutable.\n",
    "        \n",
    "        Tuples Data Structure : ('ob1', 'ob2', 1)\n",
    "            \n",
    "5. Dictionaries : Dictionary in Python is an unordered collection of data\n",
    "            values, used to store data values like a map, which, unlike other Data \n",
    "            Types that hold only a single value as an element, Dictionary holds \n",
    "            key:value pair. Key-value is provided in the dictionary to make it more \n",
    "            optimized. \n",
    "          Dictionaries data types : {'ob1' : 1, 'ob2' : 'vinay'}\n",
    "    "
   ]
  },
  {
   "cell_type": "markdown",
   "metadata": {
    "id": "QsiD6IhuE-h1"
   },
   "source": [
    "**Question 2. Given the string 'Rameshwaram' give an index command that returns 'shwar'. Enter your code in the cell below:**"
   ]
  },
  {
   "cell_type": "code",
   "execution_count": 4,
   "metadata": {
    "id": "EHEAMfaOFwUL"
   },
   "outputs": [
    {
     "name": "stdout",
     "output_type": "stream",
     "text": [
      "shwar\n"
     ]
    }
   ],
   "source": [
    "s='Rameshwaram'\n",
    "# Print out 'shwar' using indexing. \n",
    "\n",
    "print(s[4:-2])"
   ]
  },
  {
   "cell_type": "markdown",
   "metadata": {
    "id": "PFMxpBFZF7VX"
   },
   "source": [
    "**Question 3. Guess the output of  print(0.1+0.2==0.3), without running a code and write your answer in the text cell given below (shown below as Double-click (or enter) to edit). Use # before your answer to write in bold letters.**"
   ]
  },
  {
   "cell_type": "markdown",
   "metadata": {
    "id": "UzI1mAUDI-dq"
   },
   "source": [
    "True"
   ]
  },
  {
   "cell_type": "markdown",
   "metadata": {
    "id": "aCa7SmjqJAiL"
   },
   "source": [
    "**Question 4. Now run print(0.1+0.2==0.3) in the code cell. Check the result and compare with your guessed answer.\\\n",
    "Explain the output. You can use internet to search the answer.**"
   ]
  },
  {
   "cell_type": "code",
   "execution_count": 5,
   "metadata": {
    "id": "cXcBHTZALEti"
   },
   "outputs": [
    {
     "name": "stdout",
     "output_type": "stream",
     "text": [
      "False\n"
     ]
    }
   ],
   "source": [
    "print(0.1+0.2==0.3)\n",
    "\n",
    "#Explain the output\n",
    "Ohh I got failed to answer it.\n",
    "\n",
    "But after theresearching on internet I did understand\n",
    "This is an Computation problem\n",
    "because of its depends on machine floating data calculation."
   ]
  },
  {
   "cell_type": "markdown",
   "metadata": {
    "id": "_oaDKmBYK7vJ"
   },
   "source": [
    "**Question 5. Print a complex number 2+5i in three different ways.**\n"
   ]
  },
  {
   "cell_type": "code",
   "execution_count": null,
   "metadata": {
    "id": "gW3_kVjSLY-_"
   },
   "outputs": [],
   "source": [
    "# method 1\n"
   ]
  },
  {
   "cell_type": "code",
   "execution_count": null,
   "metadata": {
    "id": "XU3dxBxDLaf5"
   },
   "outputs": [],
   "source": [
    "# method 2"
   ]
  },
  {
   "cell_type": "code",
   "execution_count": null,
   "metadata": {
    "id": "Dk38Zfm4MwFl"
   },
   "outputs": [],
   "source": [
    "# method 3"
   ]
  },
  {
   "cell_type": "markdown",
   "metadata": {
    "id": "O9MH7n_ENPya"
   },
   "source": [
    "**Question 6. Run the following code and explain the outcome**"
   ]
  },
  {
   "cell_type": "code",
   "execution_count": 7,
   "metadata": {
    "id": "DOo5Ii2bNoqK"
   },
   "outputs": [
    {
     "ename": "SyntaxError",
     "evalue": "EOL while scanning string literal (Temp/ipykernel_16760/1099542609.py, line 6)",
     "output_type": "error",
     "traceback": [
      "\u001b[1;36m  File \u001b[1;32m\"C:\\Users\\vinay\\AppData\\Local\\Temp/ipykernel_16760/1099542609.py\"\u001b[1;36m, line \u001b[1;32m6\u001b[0m\n\u001b[1;33m    Explanation : it's not possible because of in python String are immutable\u001b[0m\n\u001b[1;37m                                                                              ^\u001b[0m\n\u001b[1;31mSyntaxError\u001b[0m\u001b[1;31m:\u001b[0m EOL while scanning string literal\n"
     ]
    }
   ],
   "source": [
    "#Explain the outcome of the following code\n",
    "s='Welcome'\n",
    "s[1]='w'\n",
    "\n",
    "\n",
    "Explanation : it's not possible because of in python String are immutable \n",
    "    that why be can not change value of S[1]"
   ]
  },
  {
   "cell_type": "markdown",
   "metadata": {
    "id": "YvDXGou6NtpO"
   },
   "source": [
    "**Question 7. Reassign 'hello' in this nested list to say 'goodbye' instead:**"
   ]
  },
  {
   "cell_type": "code",
   "execution_count": 11,
   "metadata": {
    "id": "6qYYTtdKOuXE"
   },
   "outputs": [
    {
     "name": "stdout",
     "output_type": "stream",
     "text": [
      "[1, 2, [3, 4, 'hello']]\n",
      "[1, 2, [3, 4, 'goobye']]\n"
     ]
    }
   ],
   "source": [
    "list1 = [1,2,[3,4,'hello']]\n",
    "print(list1)\n",
    "list1[-1][-1] = 'goobye'\n",
    "print(list1)"
   ]
  },
  {
   "cell_type": "markdown",
   "metadata": {
    "id": "pfGcGXxLO1Gr"
   },
   "source": [
    "**Question 8. Using keys and indexing, grab the 'hello' from the following dictionary:**"
   ]
  },
  {
   "cell_type": "code",
   "execution_count": 14,
   "metadata": {
    "id": "veuMZdOwPOop"
   },
   "outputs": [
    {
     "name": "stdout",
     "output_type": "stream",
     "text": [
      "hello\n"
     ]
    }
   ],
   "source": [
    "d = {'k1':[1,2,{'k2':['this is tricky',{'tough':[1,2,['hello']]}]}]}\n",
    "\n",
    "grab_hello = d['k1'][-1]['k2'][-1]['tough'][-1][0]\n",
    "print(grab_hello)"
   ]
  },
  {
   "cell_type": "markdown",
   "metadata": {
    "id": "TaujBNukPdU_"
   },
   "source": [
    "**Question 9. Can you sort a dictionary? Why or why not?**"
   ]
  },
  {
   "cell_type": "markdown",
   "metadata": {
    "id": "lUZp0nrtPn92"
   },
   "source": [
    "We can not sort Dictionary because of its keys But we can sort Dictionary by its values."
   ]
  },
  {
   "cell_type": "markdown",
   "metadata": {
    "id": "n86dmHIBQmal"
   },
   "source": [
    "**Question 10. Use a one line code to find the unique values of the list below**"
   ]
  },
  {
   "cell_type": "code",
   "execution_count": 17,
   "metadata": {
    "id": "ubq7cSabQx7J"
   },
   "outputs": [
    {
     "name": "stdout",
     "output_type": "stream",
     "text": [
      "{1, 2, 33, 4, 3, 11, 22}\n"
     ]
    }
   ],
   "source": [
    "list2 = [1,2,2,33,4,4,11,22,3,3,2]\n",
    "list2 = set(list2)\n",
    "\n",
    "print(list2)"
   ]
  },
  {
   "cell_type": "markdown",
   "metadata": {
    "id": "ylY17srmR0VC"
   },
   "source": [
    "**Question 11. Use for, .split(), and if to create a Statement that will print out words that start with 's':**"
   ]
  },
  {
   "cell_type": "code",
   "execution_count": 31,
   "metadata": {
    "id": "A5l_b4wKSBN0"
   },
   "outputs": [],
   "source": [
    "s = 'Print only the words that start with s in this sentence'"
   ]
  },
  {
   "cell_type": "code",
   "execution_count": 32,
   "metadata": {
    "id": "IK-kRB0dS-Zr"
   },
   "outputs": [
    {
     "name": "stdout",
     "output_type": "stream",
     "text": [
      "start\n",
      "s\n",
      "sentence\n"
     ]
    }
   ],
   "source": [
    "\n",
    "# write your code here\n",
    "ls = s.split()\n",
    "\n",
    "for alls in ls:\n",
    "    if(alls[0] == 's'):\n",
    "        print(alls)\n",
    "    \n",
    "        \n"
   ]
  },
  {
   "cell_type": "markdown",
   "metadata": {
    "id": "4ICVPrpPTNvV"
   },
   "source": [
    "**Question 12. Use range() to print all the even numbers from 0 to 50.**"
   ]
  },
  {
   "cell_type": "code",
   "execution_count": 33,
   "metadata": {
    "id": "7eKu7sNkTKXU"
   },
   "outputs": [
    {
     "name": "stdout",
     "output_type": "stream",
     "text": [
      "0\n",
      "2\n",
      "4\n",
      "6\n",
      "8\n",
      "10\n",
      "12\n",
      "14\n",
      "16\n",
      "18\n",
      "20\n",
      "22\n",
      "24\n",
      "26\n",
      "28\n",
      "30\n",
      "32\n",
      "34\n",
      "36\n",
      "38\n",
      "40\n",
      "42\n",
      "44\n",
      "46\n",
      "48\n"
     ]
    }
   ],
   "source": [
    "#code here\n",
    "for i in range(0,50):\n",
    "    if i % 2 == 0:\n",
    "        print(i)"
   ]
  },
  {
   "cell_type": "markdown",
   "metadata": {
    "id": "HxTt5f1ETZJE"
   },
   "source": [
    "**Question 13. Use List comprehension to create a list of all numbers between 1 and 50 that are divisible by 4.**"
   ]
  },
  {
   "cell_type": "code",
   "execution_count": 36,
   "metadata": {
    "id": "YtMp9_c8TYNt"
   },
   "outputs": [
    {
     "name": "stdout",
     "output_type": "stream",
     "text": [
      "[4, 8, 12, 16, 20, 24, 28, 32, 36, 40, 44, 48]\n"
     ]
    }
   ],
   "source": [
    "#code here\n",
    "lsdiv_4 = []\n",
    "for i in range(1,50):\n",
    "    if(i%4 == 0):\n",
    "        lsdiv_4.append(i)\n",
    "        \n",
    "print(lsdiv_4)\n",
    "        "
   ]
  },
  {
   "cell_type": "markdown",
   "metadata": {
    "id": "gFSVX2ufUKBN"
   },
   "source": [
    "**Question 14. Go through the string below and if the length of a word is even print \"even!\"**"
   ]
  },
  {
   "cell_type": "code",
   "execution_count": 46,
   "metadata": {
    "id": "eO6LD39yToAu"
   },
   "outputs": [
    {
     "name": "stdout",
     "output_type": "stream",
     "text": [
      "word is even!\n",
      "in is even!\n",
      "this is even!\n",
      "sentence is even!\n",
      "that is even!\n",
      "an is even!\n",
      "even is even!\n",
      "number is even!\n",
      "of is even!\n"
     ]
    }
   ],
   "source": [
    "s = 'Print every word in this sentence that has an even number of letters'\n",
    "#code here\n",
    "ls_s = s.split()\n",
    "\n",
    "for ls_n in ls_s:\n",
    "    if(len(ls_n)%2 == 0):\n",
    "           print(ls_n + ' is ' + \"even!\")\n",
    "            "
   ]
  },
  {
   "cell_type": "markdown",
   "metadata": {
    "id": "FyuupCI9WLwx"
   },
   "source": [
    "**Question 15. Write a Python function to check whether a string is pangram or not. (Assume the string passed in does not have any punctuation)**\n",
    "\n",
    "    Note : Pangrams are words or sentences containing every letter of the alphabet at least once.\n",
    "    For example : \"The quick brown fox jumps over the lazy dog\"\n",
    "\n",
    "Hint: You may want to use .replace() method to get rid of spaces.\n",
    "\n",
    "Hint: Look at the [string module](https://stackoverflow.com/questions/16060899/alphabet-range-in-python)\n",
    "\n",
    "Hint: In case you want to use [set comparisons](https://medium.com/better-programming/a-visual-guide-to-set-comparisons-in-python-6ab7edb9ec41)"
   ]
  },
  {
   "cell_type": "code",
   "execution_count": 100,
   "metadata": {
    "colab": {
     "base_uri": "https://localhost:8080/",
     "height": 35
    },
    "id": "ZFZMA0BqW35h",
    "outputId": "91dc0cff-a525-4604-b47b-7c058047c074"
   },
   "outputs": [
    {
     "data": {
      "text/plain": [
       "'abcdefghijklmnopqrstuvwxyz'"
      ]
     },
     "execution_count": 100,
     "metadata": {},
     "output_type": "execute_result"
    }
   ],
   "source": [
    "import string\n",
    "string.ascii_lowercase #Check the output of this line of code\n",
    "\n",
    "\n",
    "\n",
    "\n"
   ]
  },
  {
   "cell_type": "code",
   "execution_count": 101,
   "metadata": {
    "id": "sozlvYNlWUZN"
   },
   "outputs": [],
   "source": [
    "def ispangram(str1, alphabet=string.ascii_lowercase):\n",
    "    ls_alphabet = list(alphabet)\n",
    "    ls_str1 = list[str1]\n",
    "    \n",
    "    new_ls = []\n",
    "    \n",
    "    for every in str1:\n",
    "        if(every in ls_alphabet):\n",
    "            new_ls.append(every)\n",
    "   \n",
    "    \n",
    "    if(len(set(ls_alphabet)) == len(set(new_ls))):\n",
    "        return 'yes this is pangram'\n",
    "    if(len(set(ls_alphabet)) != len(set(new_ls))):\n",
    "        return 'NOt this is not a pangram'\n",
    "           "
   ]
  },
  {
   "cell_type": "code",
   "execution_count": 105,
   "metadata": {
    "id": "-GlLR1n7Wowx"
   },
   "outputs": [
    {
     "data": {
      "text/plain": [
       "'yes this is pangram'"
      ]
     },
     "execution_count": 105,
     "metadata": {},
     "output_type": "execute_result"
    }
   ],
   "source": [
    "\n",
    "ispangram(\"The quick brown fox jumps over the lazy dog\")"
   ]
  },
  {
   "cell_type": "markdown",
   "metadata": {
    "id": "ONZhLpcbXoqa"
   },
   "source": [
    "**Question 16.** **Object Oriented Programming Challenge**\n",
    "\n",
    "For this challenge, create a bank account class that has two attributes:\n",
    "\n",
    "* owner\n",
    "* balance\n",
    "\n",
    "and two methods:\n",
    "\n",
    "* deposit\n",
    "* withdraw\n",
    "\n",
    "As an added requirement, withdrawals may not exceed the available balance.\n",
    "\n",
    "Instantiate your class, make several deposits and withdrawals, and test to make sure the account can't be overdrawn."
   ]
  },
  {
   "cell_type": "code",
   "execution_count": null,
   "metadata": {
    "id": "UgAFs8j5XpTF"
   },
   "outputs": [],
   "source": [
    "class Account:\n",
    "    pass"
   ]
  },
  {
   "cell_type": "code",
   "execution_count": null,
   "metadata": {
    "id": "23NemEWdX7Ox"
   },
   "outputs": [],
   "source": [
    "# 1. Instantiate the class\n",
    "acct1 = Account('Prepleaf',1000)"
   ]
  },
  {
   "cell_type": "code",
   "execution_count": null,
   "metadata": {
    "id": "oiXA054vYAX8"
   },
   "outputs": [],
   "source": [
    "# 2. Print the object\n",
    "print(acct1)\n",
    "\n",
    "# output:\n",
    "#Account owner:   Prepleaf\n",
    "#Account balance: $1000"
   ]
  },
  {
   "cell_type": "code",
   "execution_count": null,
   "metadata": {
    "id": "OK5xj90MYGYe"
   },
   "outputs": [],
   "source": [
    "# 3. Show the account owner attribute\n",
    "acct1.owner\n",
    "#output:\n",
    "#'Prepleaf'"
   ]
  },
  {
   "cell_type": "code",
   "execution_count": null,
   "metadata": {
    "id": "3vvQkNypYmRU"
   },
   "outputs": [],
   "source": [
    "# 4. Show the account balance attribute\n",
    "acct1.balance\n",
    "#output:\n",
    "#1000"
   ]
  },
  {
   "cell_type": "code",
   "execution_count": null,
   "metadata": {
    "id": "71696TI5Yu4h"
   },
   "outputs": [],
   "source": [
    "# 5. Make a series of deposits and withdrawals\n",
    "acct1.deposit(50)\n",
    "#output:\n",
    "#Deposit Accepted"
   ]
  },
  {
   "cell_type": "code",
   "execution_count": null,
   "metadata": {
    "id": "pzhFWs2tY8M4"
   },
   "outputs": [],
   "source": [
    "acct1.withdraw(75)\n",
    "#output:\n",
    "#Withdrawal Accepted"
   ]
  },
  {
   "cell_type": "code",
   "execution_count": null,
   "metadata": {
    "collapsed": true,
    "id": "yA-8Y6cOZEnj",
    "outputId": "25ee9fb8-d039-4de2-de6d-bc3012dc6b91"
   },
   "outputs": [
    {
     "ename": "NameError",
     "evalue": "name 'acct1' is not defined",
     "output_type": "error",
     "traceback": [
      "\u001b[1;31m---------------------------------------------------------------------------\u001b[0m",
      "\u001b[1;31mNameError\u001b[0m                                 Traceback (most recent call last)",
      "\u001b[1;32m<ipython-input-1-337c98330bba>\u001b[0m in \u001b[0;36m<module>\u001b[1;34m\u001b[0m\n\u001b[0;32m      1\u001b[0m \u001b[1;31m# 6. Make a withdrawal that exceeds the available balance\u001b[0m\u001b[1;33m\u001b[0m\u001b[1;33m\u001b[0m\u001b[1;33m\u001b[0m\u001b[0m\n\u001b[1;32m----> 2\u001b[1;33m \u001b[0macct1\u001b[0m\u001b[1;33m.\u001b[0m\u001b[0mwithdraw\u001b[0m\u001b[1;33m(\u001b[0m\u001b[1;36m1500\u001b[0m\u001b[1;33m)\u001b[0m\u001b[1;33m\u001b[0m\u001b[1;33m\u001b[0m\u001b[0m\n\u001b[0m\u001b[0;32m      3\u001b[0m \u001b[1;31m#output:\u001b[0m\u001b[1;33m\u001b[0m\u001b[1;33m\u001b[0m\u001b[1;33m\u001b[0m\u001b[0m\n\u001b[0;32m      4\u001b[0m \u001b[1;31m#Funds Unavailable!\u001b[0m\u001b[1;33m\u001b[0m\u001b[1;33m\u001b[0m\u001b[1;33m\u001b[0m\u001b[0m\n",
      "\u001b[1;31mNameError\u001b[0m: name 'acct1' is not defined"
     ]
    }
   ],
   "source": [
    "# 6. Make a withdrawal that exceeds the available balance\n",
    "acct1.withdraw(1500)\n",
    "#output:\n",
    "#Funds Unavailable!"
   ]
  },
  {
   "cell_type": "markdown",
   "metadata": {
    "id": "-PFTt2tyJKCc"
   },
   "source": [
    "Question 17.  combine given two series to form a dataframe with columns names as col1, col2 and print the first five rows.\n",
    "\n"
   ]
  },
  {
   "cell_type": "code",
   "execution_count": null,
   "metadata": {
    "id": "XKPf2GIUJKCc"
   },
   "outputs": [],
   "source": [
    "import pandas as pd\n",
    "import numpy as np\n",
    "ser1 = pd.Series(list('abcedfghijklmnopqrstuvwxyz'))\n",
    "ser2 = pd.Series(np.arange(26))"
   ]
  },
  {
   "cell_type": "markdown",
   "metadata": {
    "id": "lV-2bLOvJOGq"
   },
   "source": [
    "Question 18. Given the data. Which manufacturer, model and type has the highest Price?"
   ]
  },
  {
   "cell_type": "code",
   "execution_count": null,
   "metadata": {
    "id": "RYEOEp7XJKCd"
   },
   "outputs": [],
   "source": [
    " df = pd.read_csv('https://raw.githubusercontent.com/selva86/datasets/master/Cars93_miss.csv')"
   ]
  },
  {
   "cell_type": "markdown",
   "metadata": {
    "id": "8Qvygcr5JR85"
   },
   "source": [
    "Question 19. What is the row and column number of the cell with the highest Price value?"
   ]
  },
  {
   "cell_type": "markdown",
   "metadata": {
    "id": "eMgH_YF2JV3H"
   },
   "source": [
    "Question 20. Run this code. If you get an error. Use exceptional handling to print as \"An error occurred\" when error occurs."
   ]
  },
  {
   "cell_type": "code",
   "execution_count": null,
   "metadata": {
    "id": "QfvU9ktLJKCe",
    "outputId": "a0667217-2d07-4e9a-a1b1-840b6536f189"
   },
   "outputs": [
    {
     "name": "stdout",
     "output_type": "stream",
     "text": [
      "1\n",
      "2\n",
      "3\n",
      "4\n"
     ]
    },
    {
     "ename": "IndexError",
     "evalue": "list index out of range",
     "output_type": "error",
     "traceback": [
      "\u001b[1;31m---------------------------------------------------------------------------\u001b[0m",
      "\u001b[1;31mIndexError\u001b[0m                                Traceback (most recent call last)",
      "\u001b[1;32m<ipython-input-14-703fa15c4ecb>\u001b[0m in \u001b[0;36m<module>\u001b[1;34m\u001b[0m\n\u001b[0;32m      3\u001b[0m \u001b[0mlist\u001b[0m \u001b[1;33m=\u001b[0m \u001b[1;33m[\u001b[0m\u001b[1;36m1\u001b[0m\u001b[1;33m,\u001b[0m\u001b[1;36m2\u001b[0m\u001b[1;33m,\u001b[0m\u001b[1;36m3\u001b[0m\u001b[1;33m,\u001b[0m\u001b[1;36m4\u001b[0m\u001b[1;33m]\u001b[0m\u001b[1;33m\u001b[0m\u001b[1;33m\u001b[0m\u001b[0m\n\u001b[0;32m      4\u001b[0m \u001b[1;32mfor\u001b[0m \u001b[0mi\u001b[0m \u001b[1;32min\u001b[0m \u001b[0mrange\u001b[0m\u001b[1;33m(\u001b[0m\u001b[1;36m5\u001b[0m\u001b[1;33m)\u001b[0m\u001b[1;33m:\u001b[0m\u001b[1;33m\u001b[0m\u001b[1;33m\u001b[0m\u001b[0m\n\u001b[1;32m----> 5\u001b[1;33m     \u001b[0mprint\u001b[0m\u001b[1;33m(\u001b[0m\u001b[0mlist\u001b[0m\u001b[1;33m[\u001b[0m\u001b[0mi\u001b[0m\u001b[1;33m]\u001b[0m\u001b[1;33m)\u001b[0m\u001b[1;33m\u001b[0m\u001b[1;33m\u001b[0m\u001b[0m\n\u001b[0m",
      "\u001b[1;31mIndexError\u001b[0m: list index out of range"
     ]
    }
   ],
   "source": [
    "list = [1,2,3,4]\n",
    "for i in range(5):\n",
    "    print(list[i])"
   ]
  },
  {
   "cell_type": "code",
   "execution_count": null,
   "metadata": {
    "id": "LFFssLpQJKCe"
   },
   "outputs": [],
   "source": []
  }
 ],
 "metadata": {
  "colab": {
   "name": "Assignment7",
   "provenance": []
  },
  "kernelspec": {
   "display_name": "Python 3 (ipykernel)",
   "language": "python",
   "name": "python3"
  },
  "language_info": {
   "codemirror_mode": {
    "name": "ipython",
    "version": 3
   },
   "file_extension": ".py",
   "mimetype": "text/x-python",
   "name": "python",
   "nbconvert_exporter": "python",
   "pygments_lexer": "ipython3",
   "version": "3.9.7"
  }
 },
 "nbformat": 4,
 "nbformat_minor": 1
}
